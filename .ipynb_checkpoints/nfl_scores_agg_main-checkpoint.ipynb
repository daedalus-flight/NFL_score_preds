{
 "cells": [
  {
   "cell_type": "code",
   "execution_count": 169,
   "metadata": {},
   "outputs": [],
   "source": [
    "import pandas as pd"
   ]
  },
  {
   "cell_type": "code",
   "execution_count": 170,
   "metadata": {},
   "outputs": [],
   "source": [
    "nfl = pd.read_csv('./data/spreadspoke_110820.csv', index_col = \"schedule_date\", parse_dates = True)"
   ]
  },
  {
   "cell_type": "code",
   "execution_count": 171,
   "metadata": {},
   "outputs": [],
   "source": [
    "nfl = pd.DataFrame(nfl.loc['2010-09-01':'2020-02-10'])"
   ]
  },
  {
   "cell_type": "markdown",
   "metadata": {},
   "source": [
    "#### Data starts in 2010 Season and ends in 2020 but will have to cut off earlier"
   ]
  },
  {
   "cell_type": "code",
   "execution_count": 172,
   "metadata": {},
   "outputs": [
    {
     "name": "stdout",
     "output_type": "stream",
     "text": [
      "<class 'pandas.core.frame.DataFrame'>\n",
      "DatetimeIndex: 2670 entries, 2010-09-09 to 2020-02-02\n",
      "Data columns (total 16 columns):\n",
      " #   Column               Non-Null Count  Dtype  \n",
      "---  ------               --------------  -----  \n",
      " 0   schedule_season      2670 non-null   int64  \n",
      " 1   schedule_week        2670 non-null   object \n",
      " 2   schedule_playoff     2670 non-null   bool   \n",
      " 3   team_home            2670 non-null   object \n",
      " 4   score_home           2670 non-null   float64\n",
      " 5   score_away           2670 non-null   float64\n",
      " 6   team_away            2670 non-null   object \n",
      " 7   team_favorite_id     2670 non-null   object \n",
      " 8   spread_favorite      2670 non-null   float64\n",
      " 9   over_under_line      2670 non-null   float64\n",
      " 10  stadium              2670 non-null   object \n",
      " 11  stadium_neutral      2670 non-null   bool   \n",
      " 12  weather_temperature  2433 non-null   float64\n",
      " 13  weather_wind_mph     2433 non-null   float64\n",
      " 14  weather_humidity     671 non-null    object \n",
      " 15  weather_detail       854 non-null    object \n",
      "dtypes: bool(2), float64(6), int64(1), object(7)\n",
      "memory usage: 318.1+ KB\n"
     ]
    }
   ],
   "source": [
    "nfl['over_under_line'] = nfl['over_under_line'].astype(float)\n",
    "nfl.info()"
   ]
  },
  {
   "cell_type": "code",
   "execution_count": 173,
   "metadata": {},
   "outputs": [],
   "source": [
    "nfl = nfl.iloc[:, :10]"
   ]
  },
  {
   "cell_type": "code",
   "execution_count": 174,
   "metadata": {},
   "outputs": [],
   "source": [
    "nfl.drop(columns = 'schedule_playoff',inplace=True)"
   ]
  },
  {
   "cell_type": "code",
   "execution_count": 175,
   "metadata": {},
   "outputs": [],
   "source": [
    "nfl['margin'] = nfl['score_home'] - nfl['score_away']"
   ]
  },
  {
   "cell_type": "code",
   "execution_count": 176,
   "metadata": {},
   "outputs": [],
   "source": [
    "def desc_to_id(id):\n",
    "\n",
    "    id_dict = {\n",
    "        'Atlanta Falcons': 'ATL',\n",
    "        'Chicago Bears': 'CHI',\n",
    "        'Cleveland Browns': 'CLE',\n",
    "        'Green Bay Packers': \"GB\",\n",
    "        'Indianapolis Colts':'IND',\n",
    "        'Jacksonville Jaguars':'JAX',\n",
    "        'New Orleans Saints': 'NO',\n",
    "        'New York Jets':'NYJ',\n",
    "        'Philadelphia Eagles':'PHI',\n",
    "        'Seattle Seahawks':'SEA',\n",
    "        'St. Louis Rams': 'LAR',\n",
    "        'Tampa Bay Buccaneers':'TB',\n",
    "        'Tennessee Titans':'TEN',\n",
    "        'Washington Redskins':'WAS',\n",
    "        'Denver Broncos':'DEN',\n",
    "        'Baltimore Ravens':'BAL',\n",
    "        'Buffalo Bills':'BUF',\n",
    "        'Carolina Panthers':'CAR',\n",
    "        'Cincinnati Bengals': 'CIN',\n",
    "        'Detroit Lions': 'DET',\n",
    "        'Kansas City Chiefs': 'KC',\n",
    "        'Miami Dolphins': 'MIA',\n",
    "        'Minnesota Vikings':'MIN',\n",
    "        'New England Patriots':'NE',\n",
    "        'New York Giants':'NYG',\n",
    "        'San Francisco 49ers':'SF',\n",
    "        'Dallas Cowboys': 'DAL',\n",
    "        'Oakland Raiders': 'OAK',\n",
    "        'Pittsburgh Steelers':'PIT',\n",
    "        'San Diego Chargers':'LAC',\n",
    "        'Arizona Cardinals': 'ARI',\n",
    "        'Houston Texans':'HOU',\n",
    "        'Los Angeles Rams':'LAR',\n",
    "        'Los Angeles Chargers':'LAC'\n",
    "    }\n",
    "    \n",
    "    try:\n",
    "        return id_dict[id]\n",
    "    except:\n",
    "        return 'CHECK!'"
   ]
  },
  {
   "cell_type": "code",
   "execution_count": 177,
   "metadata": {},
   "outputs": [],
   "source": [
    "nfl['team_away'] = nfl16['team_away'].apply(desc_to_id)\n",
    "nfl['team_home'] = nfl16['team_home'].apply(desc_to_id)"
   ]
  },
  {
   "cell_type": "code",
   "execution_count": 178,
   "metadata": {},
   "outputs": [],
   "source": [
    "nfl['home_team']= nfl['team_home']"
   ]
  },
  {
   "cell_type": "code",
   "execution_count": 179,
   "metadata": {},
   "outputs": [
    {
     "data": {
      "text/plain": [
       "(2670, 11)"
      ]
     },
     "execution_count": 179,
     "metadata": {},
     "output_type": "execute_result"
    }
   ],
   "source": [
    "nfl.shape"
   ]
  },
  {
   "cell_type": "markdown",
   "metadata": {},
   "source": [
    "#### getting rid of playoff games"
   ]
  },
  {
   "cell_type": "code",
   "execution_count": 180,
   "metadata": {},
   "outputs": [
    {
     "data": {
      "text/plain": [
       "array(['1', '2', '3', '4', '5', '6', '7', '8', '9', '10', '11', '12',\n",
       "       '13', '14', '15', '16', '17', 'Wildcard', 'Division', 'Conference',\n",
       "       'Superbowl', 'WildCard', 'SuperBowl'], dtype=object)"
      ]
     },
     "execution_count": 180,
     "metadata": {},
     "output_type": "execute_result"
    }
   ],
   "source": [
    "nfl['schedule_week'].unique()"
   ]
  },
  {
   "cell_type": "code",
   "execution_count": 181,
   "metadata": {},
   "outputs": [],
   "source": [
    "nfl = nfl[nfl.schedule_week != 'Wildcard']\n",
    "nfl = nfl[nfl.schedule_week != 'WildCard']\n",
    "nfl = nfl[nfl.schedule_week != 'Division']\n",
    "nfl = nfl[nfl.schedule_week != 'Conference']\n",
    "nfl = nfl[nfl.schedule_week != 'Superbowl']\n",
    "nfl = nfl[nfl.schedule_week != 'SuperBowl']"
   ]
  },
  {
   "cell_type": "code",
   "execution_count": 182,
   "metadata": {},
   "outputs": [
    {
     "data": {
      "text/plain": [
       "(2560, 11)"
      ]
     },
     "execution_count": 182,
     "metadata": {},
     "output_type": "execute_result"
    }
   ],
   "source": [
    "nfl.shape"
   ]
  },
  {
   "cell_type": "code",
   "execution_count": 183,
   "metadata": {},
   "outputs": [
    {
     "data": {
      "text/plain": [
       "array(['1', '2', '3', '4', '5', '6', '7', '8', '9', '10', '11', '12',\n",
       "       '13', '14', '15', '16', '17'], dtype=object)"
      ]
     },
     "execution_count": 183,
     "metadata": {},
     "output_type": "execute_result"
    }
   ],
   "source": [
    "nfl['schedule_week'].unique()"
   ]
  },
  {
   "cell_type": "code",
   "execution_count": 216,
   "metadata": {},
   "outputs": [
    {
     "data": {
      "text/html": [
       "<div>\n",
       "<style scoped>\n",
       "    .dataframe tbody tr th:only-of-type {\n",
       "        vertical-align: middle;\n",
       "    }\n",
       "\n",
       "    .dataframe tbody tr th {\n",
       "        vertical-align: top;\n",
       "    }\n",
       "\n",
       "    .dataframe thead th {\n",
       "        text-align: right;\n",
       "    }\n",
       "</style>\n",
       "<table border=\"1\" class=\"dataframe\">\n",
       "  <thead>\n",
       "    <tr style=\"text-align: right;\">\n",
       "      <th></th>\n",
       "      <th>schedule_season</th>\n",
       "      <th>schedule_week</th>\n",
       "      <th>team_home</th>\n",
       "      <th>score_home</th>\n",
       "      <th>score_away</th>\n",
       "      <th>team_away</th>\n",
       "      <th>team_favorite_id</th>\n",
       "      <th>spread_favorite</th>\n",
       "      <th>over_under_line</th>\n",
       "      <th>margin</th>\n",
       "      <th>home_team</th>\n",
       "    </tr>\n",
       "    <tr>\n",
       "      <th>schedule_date</th>\n",
       "      <th></th>\n",
       "      <th></th>\n",
       "      <th></th>\n",
       "      <th></th>\n",
       "      <th></th>\n",
       "      <th></th>\n",
       "      <th></th>\n",
       "      <th></th>\n",
       "      <th></th>\n",
       "      <th></th>\n",
       "      <th></th>\n",
       "    </tr>\n",
       "  </thead>\n",
       "  <tbody>\n",
       "    <tr>\n",
       "      <th>2010-09-09</th>\n",
       "      <td>2010</td>\n",
       "      <td>1</td>\n",
       "      <td>NO</td>\n",
       "      <td>14.0</td>\n",
       "      <td>9.0</td>\n",
       "      <td>MIN</td>\n",
       "      <td>NO</td>\n",
       "      <td>-5.0</td>\n",
       "      <td>49.5</td>\n",
       "      <td>5.0</td>\n",
       "      <td>NO</td>\n",
       "    </tr>\n",
       "    <tr>\n",
       "      <th>2010-09-12</th>\n",
       "      <td>2010</td>\n",
       "      <td>1</td>\n",
       "      <td>BUF</td>\n",
       "      <td>10.0</td>\n",
       "      <td>15.0</td>\n",
       "      <td>MIA</td>\n",
       "      <td>MIA</td>\n",
       "      <td>-3.0</td>\n",
       "      <td>39.0</td>\n",
       "      <td>-5.0</td>\n",
       "      <td>BUF</td>\n",
       "    </tr>\n",
       "    <tr>\n",
       "      <th>2010-09-12</th>\n",
       "      <td>2010</td>\n",
       "      <td>1</td>\n",
       "      <td>CHI</td>\n",
       "      <td>19.0</td>\n",
       "      <td>14.0</td>\n",
       "      <td>DET</td>\n",
       "      <td>CHI</td>\n",
       "      <td>-6.5</td>\n",
       "      <td>45.0</td>\n",
       "      <td>5.0</td>\n",
       "      <td>CHI</td>\n",
       "    </tr>\n",
       "    <tr>\n",
       "      <th>2010-09-12</th>\n",
       "      <td>2010</td>\n",
       "      <td>1</td>\n",
       "      <td>HOU</td>\n",
       "      <td>34.0</td>\n",
       "      <td>24.0</td>\n",
       "      <td>IND</td>\n",
       "      <td>IND</td>\n",
       "      <td>-1.0</td>\n",
       "      <td>48.0</td>\n",
       "      <td>10.0</td>\n",
       "      <td>HOU</td>\n",
       "    </tr>\n",
       "    <tr>\n",
       "      <th>2010-09-12</th>\n",
       "      <td>2010</td>\n",
       "      <td>1</td>\n",
       "      <td>JAX</td>\n",
       "      <td>24.0</td>\n",
       "      <td>17.0</td>\n",
       "      <td>DEN</td>\n",
       "      <td>JAX</td>\n",
       "      <td>-3.0</td>\n",
       "      <td>41.5</td>\n",
       "      <td>7.0</td>\n",
       "      <td>JAX</td>\n",
       "    </tr>\n",
       "  </tbody>\n",
       "</table>\n",
       "</div>"
      ],
      "text/plain": [
       "               schedule_season schedule_week team_home  score_home  \\\n",
       "schedule_date                                                        \n",
       "2010-09-09                2010             1        NO        14.0   \n",
       "2010-09-12                2010             1       BUF        10.0   \n",
       "2010-09-12                2010             1       CHI        19.0   \n",
       "2010-09-12                2010             1       HOU        34.0   \n",
       "2010-09-12                2010             1       JAX        24.0   \n",
       "\n",
       "               score_away team_away team_favorite_id  spread_favorite  \\\n",
       "schedule_date                                                           \n",
       "2010-09-09            9.0       MIN               NO             -5.0   \n",
       "2010-09-12           15.0       MIA              MIA             -3.0   \n",
       "2010-09-12           14.0       DET              CHI             -6.5   \n",
       "2010-09-12           24.0       IND              IND             -1.0   \n",
       "2010-09-12           17.0       DEN              JAX             -3.0   \n",
       "\n",
       "               over_under_line  margin home_team  \n",
       "schedule_date                                     \n",
       "2010-09-09                49.5     5.0        NO  \n",
       "2010-09-12                39.0    -5.0       BUF  \n",
       "2010-09-12                45.0     5.0       CHI  \n",
       "2010-09-12                48.0    10.0       HOU  \n",
       "2010-09-12                41.5     7.0       JAX  "
      ]
     },
     "execution_count": 216,
     "metadata": {},
     "output_type": "execute_result"
    }
   ],
   "source": [
    "nfl.head()"
   ]
  },
  {
   "cell_type": "code",
   "execution_count": 184,
   "metadata": {},
   "outputs": [],
   "source": [
    "# h is for home designation\n",
    "nfl_h = nfl.rename(columns= {\n",
    "    'team_home': 'team',\n",
    "    'score_home': 'score',\n",
    "    'score_away': 'opponent_score',\n",
    "    'team_away' : 'opponent_team',\n",
    "})"
   ]
  },
  {
   "cell_type": "code",
   "execution_count": 185,
   "metadata": {},
   "outputs": [],
   "source": [
    "nfl_h.reset_index(inplace=True)"
   ]
  },
  {
   "cell_type": "code",
   "execution_count": 187,
   "metadata": {},
   "outputs": [
    {
     "data": {
      "text/html": [
       "<div>\n",
       "<style scoped>\n",
       "    .dataframe tbody tr th:only-of-type {\n",
       "        vertical-align: middle;\n",
       "    }\n",
       "\n",
       "    .dataframe tbody tr th {\n",
       "        vertical-align: top;\n",
       "    }\n",
       "\n",
       "    .dataframe thead th {\n",
       "        text-align: right;\n",
       "    }\n",
       "</style>\n",
       "<table border=\"1\" class=\"dataframe\">\n",
       "  <thead>\n",
       "    <tr style=\"text-align: right;\">\n",
       "      <th></th>\n",
       "      <th>schedule_date</th>\n",
       "      <th>schedule_season</th>\n",
       "      <th>schedule_week</th>\n",
       "      <th>team</th>\n",
       "      <th>score</th>\n",
       "      <th>opponent_score</th>\n",
       "      <th>team_away</th>\n",
       "      <th>team_favorite_id</th>\n",
       "      <th>spread_favorite</th>\n",
       "      <th>over_under_line</th>\n",
       "      <th>margin</th>\n",
       "      <th>home_team</th>\n",
       "    </tr>\n",
       "  </thead>\n",
       "  <tbody>\n",
       "    <tr>\n",
       "      <th>0</th>\n",
       "      <td>2010-09-09</td>\n",
       "      <td>2010</td>\n",
       "      <td>1</td>\n",
       "      <td>NO</td>\n",
       "      <td>14.0</td>\n",
       "      <td>9.0</td>\n",
       "      <td>MIN</td>\n",
       "      <td>NO</td>\n",
       "      <td>-5.0</td>\n",
       "      <td>49.5</td>\n",
       "      <td>5.0</td>\n",
       "      <td>NO</td>\n",
       "    </tr>\n",
       "    <tr>\n",
       "      <th>1</th>\n",
       "      <td>2010-09-12</td>\n",
       "      <td>2010</td>\n",
       "      <td>1</td>\n",
       "      <td>BUF</td>\n",
       "      <td>10.0</td>\n",
       "      <td>15.0</td>\n",
       "      <td>MIA</td>\n",
       "      <td>MIA</td>\n",
       "      <td>-3.0</td>\n",
       "      <td>39.0</td>\n",
       "      <td>-5.0</td>\n",
       "      <td>BUF</td>\n",
       "    </tr>\n",
       "    <tr>\n",
       "      <th>2</th>\n",
       "      <td>2010-09-12</td>\n",
       "      <td>2010</td>\n",
       "      <td>1</td>\n",
       "      <td>CHI</td>\n",
       "      <td>19.0</td>\n",
       "      <td>14.0</td>\n",
       "      <td>DET</td>\n",
       "      <td>CHI</td>\n",
       "      <td>-6.5</td>\n",
       "      <td>45.0</td>\n",
       "      <td>5.0</td>\n",
       "      <td>CHI</td>\n",
       "    </tr>\n",
       "    <tr>\n",
       "      <th>3</th>\n",
       "      <td>2010-09-12</td>\n",
       "      <td>2010</td>\n",
       "      <td>1</td>\n",
       "      <td>HOU</td>\n",
       "      <td>34.0</td>\n",
       "      <td>24.0</td>\n",
       "      <td>IND</td>\n",
       "      <td>IND</td>\n",
       "      <td>-1.0</td>\n",
       "      <td>48.0</td>\n",
       "      <td>10.0</td>\n",
       "      <td>HOU</td>\n",
       "    </tr>\n",
       "    <tr>\n",
       "      <th>4</th>\n",
       "      <td>2010-09-12</td>\n",
       "      <td>2010</td>\n",
       "      <td>1</td>\n",
       "      <td>JAX</td>\n",
       "      <td>24.0</td>\n",
       "      <td>17.0</td>\n",
       "      <td>DEN</td>\n",
       "      <td>JAX</td>\n",
       "      <td>-3.0</td>\n",
       "      <td>41.5</td>\n",
       "      <td>7.0</td>\n",
       "      <td>JAX</td>\n",
       "    </tr>\n",
       "  </tbody>\n",
       "</table>\n",
       "</div>"
      ],
      "text/plain": [
       "  schedule_date  schedule_season schedule_week team  score  opponent_score  \\\n",
       "0    2010-09-09             2010             1   NO   14.0             9.0   \n",
       "1    2010-09-12             2010             1  BUF   10.0            15.0   \n",
       "2    2010-09-12             2010             1  CHI   19.0            14.0   \n",
       "3    2010-09-12             2010             1  HOU   34.0            24.0   \n",
       "4    2010-09-12             2010             1  JAX   24.0            17.0   \n",
       "\n",
       "  team_away team_favorite_id  spread_favorite  over_under_line  margin  \\\n",
       "0       MIN               NO             -5.0             49.5     5.0   \n",
       "1       MIA              MIA             -3.0             39.0    -5.0   \n",
       "2       DET              CHI             -6.5             45.0     5.0   \n",
       "3       IND              IND             -1.0             48.0    10.0   \n",
       "4       DEN              JAX             -3.0             41.5     7.0   \n",
       "\n",
       "  home_team  \n",
       "0        NO  \n",
       "1       BUF  \n",
       "2       CHI  \n",
       "3       HOU  \n",
       "4       JAX  "
      ]
     },
     "execution_count": 187,
     "metadata": {},
     "output_type": "execute_result"
    }
   ],
   "source": [
    "nfl_h.head()"
   ]
  },
  {
   "cell_type": "code",
   "execution_count": 190,
   "metadata": {},
   "outputs": [],
   "source": [
    "nfl_h['id'] = nfl_h['team'] + nfl_h['schedule_date'].astype(str) + nfl_h['team_away']"
   ]
  },
  {
   "cell_type": "code",
   "execution_count": 192,
   "metadata": {},
   "outputs": [
    {
     "data": {
      "text/html": [
       "<div>\n",
       "<style scoped>\n",
       "    .dataframe tbody tr th:only-of-type {\n",
       "        vertical-align: middle;\n",
       "    }\n",
       "\n",
       "    .dataframe tbody tr th {\n",
       "        vertical-align: top;\n",
       "    }\n",
       "\n",
       "    .dataframe thead th {\n",
       "        text-align: right;\n",
       "    }\n",
       "</style>\n",
       "<table border=\"1\" class=\"dataframe\">\n",
       "  <thead>\n",
       "    <tr style=\"text-align: right;\">\n",
       "      <th></th>\n",
       "      <th>schedule_date</th>\n",
       "      <th>schedule_season</th>\n",
       "      <th>schedule_week</th>\n",
       "      <th>team</th>\n",
       "      <th>score</th>\n",
       "      <th>opponent_score</th>\n",
       "      <th>team_away</th>\n",
       "      <th>team_favorite_id</th>\n",
       "      <th>spread_favorite</th>\n",
       "      <th>over_under_line</th>\n",
       "      <th>margin</th>\n",
       "      <th>home_team</th>\n",
       "      <th>id</th>\n",
       "    </tr>\n",
       "  </thead>\n",
       "  <tbody>\n",
       "    <tr>\n",
       "      <th>0</th>\n",
       "      <td>2010-09-09</td>\n",
       "      <td>2010</td>\n",
       "      <td>1</td>\n",
       "      <td>NO</td>\n",
       "      <td>14.0</td>\n",
       "      <td>9.0</td>\n",
       "      <td>MIN</td>\n",
       "      <td>NO</td>\n",
       "      <td>-5.0</td>\n",
       "      <td>49.5</td>\n",
       "      <td>5.0</td>\n",
       "      <td>NO</td>\n",
       "      <td>NO2010-09-09MIN</td>\n",
       "    </tr>\n",
       "  </tbody>\n",
       "</table>\n",
       "</div>"
      ],
      "text/plain": [
       "  schedule_date  schedule_season schedule_week team  score  opponent_score  \\\n",
       "0    2010-09-09             2010             1   NO   14.0             9.0   \n",
       "\n",
       "  team_away team_favorite_id  spread_favorite  over_under_line  margin  \\\n",
       "0       MIN               NO             -5.0             49.5     5.0   \n",
       "\n",
       "  home_team               id  \n",
       "0        NO  NO2010-09-09MIN  "
      ]
     },
     "execution_count": 192,
     "metadata": {},
     "output_type": "execute_result"
    }
   ],
   "source": [
    "nfl_h.head(1)"
   ]
  },
  {
   "cell_type": "code",
   "execution_count": 193,
   "metadata": {},
   "outputs": [],
   "source": [
    "nfl_h.drop(columns = 'team_away', inplace=True)"
   ]
  },
  {
   "cell_type": "code",
   "execution_count": 194,
   "metadata": {},
   "outputs": [
    {
     "data": {
      "text/plain": [
       "(2560, 12)"
      ]
     },
     "execution_count": 194,
     "metadata": {},
     "output_type": "execute_result"
    }
   ],
   "source": [
    "nfl_h.shape"
   ]
  },
  {
   "cell_type": "code",
   "execution_count": 195,
   "metadata": {},
   "outputs": [],
   "source": [
    "# a is for home designation\n",
    "nfl_a = nfl.rename(columns= {\n",
    "    'team_away': 'team',\n",
    "    'score_away': 'score',\n",
    "    'score_home': 'opponent_score',\n",
    "    'team_home' : 'opponent_team'\n",
    "})"
   ]
  },
  {
   "cell_type": "code",
   "execution_count": 196,
   "metadata": {},
   "outputs": [],
   "source": [
    "nfl_a.reset_index(inplace=True)"
   ]
  },
  {
   "cell_type": "code",
   "execution_count": 201,
   "metadata": {},
   "outputs": [
    {
     "data": {
      "text/html": [
       "<div>\n",
       "<style scoped>\n",
       "    .dataframe tbody tr th:only-of-type {\n",
       "        vertical-align: middle;\n",
       "    }\n",
       "\n",
       "    .dataframe tbody tr th {\n",
       "        vertical-align: top;\n",
       "    }\n",
       "\n",
       "    .dataframe thead th {\n",
       "        text-align: right;\n",
       "    }\n",
       "</style>\n",
       "<table border=\"1\" class=\"dataframe\">\n",
       "  <thead>\n",
       "    <tr style=\"text-align: right;\">\n",
       "      <th></th>\n",
       "      <th>schedule_date</th>\n",
       "      <th>schedule_season</th>\n",
       "      <th>schedule_week</th>\n",
       "      <th>team_home</th>\n",
       "      <th>opponent_score</th>\n",
       "      <th>score</th>\n",
       "      <th>team</th>\n",
       "      <th>team_favorite_id</th>\n",
       "      <th>spread_favorite</th>\n",
       "      <th>over_under_line</th>\n",
       "      <th>margin</th>\n",
       "      <th>home_team</th>\n",
       "    </tr>\n",
       "  </thead>\n",
       "  <tbody>\n",
       "    <tr>\n",
       "      <th>0</th>\n",
       "      <td>2010-09-09</td>\n",
       "      <td>2010</td>\n",
       "      <td>1</td>\n",
       "      <td>NO</td>\n",
       "      <td>14.0</td>\n",
       "      <td>9.0</td>\n",
       "      <td>MIN</td>\n",
       "      <td>NO</td>\n",
       "      <td>-5.0</td>\n",
       "      <td>49.5</td>\n",
       "      <td>5.0</td>\n",
       "      <td>NO</td>\n",
       "    </tr>\n",
       "  </tbody>\n",
       "</table>\n",
       "</div>"
      ],
      "text/plain": [
       "  schedule_date  schedule_season schedule_week team_home  opponent_score  \\\n",
       "0    2010-09-09             2010             1        NO            14.0   \n",
       "\n",
       "   score team team_favorite_id  spread_favorite  over_under_line  margin  \\\n",
       "0    9.0  MIN               NO             -5.0             49.5     5.0   \n",
       "\n",
       "  home_team  \n",
       "0        NO  "
      ]
     },
     "execution_count": 201,
     "metadata": {},
     "output_type": "execute_result"
    }
   ],
   "source": [
    "nfl_a.head(1)"
   ]
  },
  {
   "cell_type": "code",
   "execution_count": 202,
   "metadata": {},
   "outputs": [],
   "source": [
    "nfl_a['id'] = nfl_a['team'] + nfl_a['schedule_date'].astype(str) + nfl_a['team_home']"
   ]
  },
  {
   "cell_type": "code",
   "execution_count": 203,
   "metadata": {},
   "outputs": [
    {
     "data": {
      "text/html": [
       "<div>\n",
       "<style scoped>\n",
       "    .dataframe tbody tr th:only-of-type {\n",
       "        vertical-align: middle;\n",
       "    }\n",
       "\n",
       "    .dataframe tbody tr th {\n",
       "        vertical-align: top;\n",
       "    }\n",
       "\n",
       "    .dataframe thead th {\n",
       "        text-align: right;\n",
       "    }\n",
       "</style>\n",
       "<table border=\"1\" class=\"dataframe\">\n",
       "  <thead>\n",
       "    <tr style=\"text-align: right;\">\n",
       "      <th></th>\n",
       "      <th>schedule_date</th>\n",
       "      <th>schedule_season</th>\n",
       "      <th>schedule_week</th>\n",
       "      <th>team_home</th>\n",
       "      <th>opponent_score</th>\n",
       "      <th>score</th>\n",
       "      <th>team</th>\n",
       "      <th>team_favorite_id</th>\n",
       "      <th>spread_favorite</th>\n",
       "      <th>over_under_line</th>\n",
       "      <th>margin</th>\n",
       "      <th>home_team</th>\n",
       "      <th>id</th>\n",
       "    </tr>\n",
       "  </thead>\n",
       "  <tbody>\n",
       "    <tr>\n",
       "      <th>0</th>\n",
       "      <td>2010-09-09</td>\n",
       "      <td>2010</td>\n",
       "      <td>1</td>\n",
       "      <td>NO</td>\n",
       "      <td>14.0</td>\n",
       "      <td>9.0</td>\n",
       "      <td>MIN</td>\n",
       "      <td>NO</td>\n",
       "      <td>-5.0</td>\n",
       "      <td>49.5</td>\n",
       "      <td>5.0</td>\n",
       "      <td>NO</td>\n",
       "      <td>MIN2010-09-09NO</td>\n",
       "    </tr>\n",
       "  </tbody>\n",
       "</table>\n",
       "</div>"
      ],
      "text/plain": [
       "  schedule_date  schedule_season schedule_week team_home  opponent_score  \\\n",
       "0    2010-09-09             2010             1        NO            14.0   \n",
       "\n",
       "   score team team_favorite_id  spread_favorite  over_under_line  margin  \\\n",
       "0    9.0  MIN               NO             -5.0             49.5     5.0   \n",
       "\n",
       "  home_team               id  \n",
       "0        NO  MIN2010-09-09NO  "
      ]
     },
     "execution_count": 203,
     "metadata": {},
     "output_type": "execute_result"
    }
   ],
   "source": [
    "nfl_a.head(1)"
   ]
  },
  {
   "cell_type": "code",
   "execution_count": 205,
   "metadata": {},
   "outputs": [],
   "source": [
    "nfl_a.drop(columns='team_home', inplace=True)"
   ]
  },
  {
   "cell_type": "code",
   "execution_count": 206,
   "metadata": {},
   "outputs": [],
   "source": [
    "nfl_a['margin'] = nfl_a['score'] - nfl_a['opponent_score']"
   ]
  },
  {
   "cell_type": "code",
   "execution_count": 207,
   "metadata": {},
   "outputs": [
    {
     "data": {
      "text/plain": [
       "(2560, 12)"
      ]
     },
     "execution_count": 207,
     "metadata": {},
     "output_type": "execute_result"
    }
   ],
   "source": [
    "nfl_a.shape"
   ]
  },
  {
   "cell_type": "code",
   "execution_count": 208,
   "metadata": {},
   "outputs": [],
   "source": [
    "nfl_ha = pd.concat([nfl_h, nfl_a], axis=0, join ='inner')"
   ]
  },
  {
   "cell_type": "code",
   "execution_count": 209,
   "metadata": {},
   "outputs": [
    {
     "data": {
      "text/plain": [
       "(5120, 12)"
      ]
     },
     "execution_count": 209,
     "metadata": {},
     "output_type": "execute_result"
    }
   ],
   "source": [
    "nfl_ha.shape"
   ]
  },
  {
   "cell_type": "code",
   "execution_count": 211,
   "metadata": {},
   "outputs": [],
   "source": [
    "nfl_ha.sort_values(by= ['schedule_date', 'team'], inplace=True)"
   ]
  },
  {
   "cell_type": "code",
   "execution_count": 213,
   "metadata": {},
   "outputs": [
    {
     "data": {
      "text/html": [
       "<div>\n",
       "<style scoped>\n",
       "    .dataframe tbody tr th:only-of-type {\n",
       "        vertical-align: middle;\n",
       "    }\n",
       "\n",
       "    .dataframe tbody tr th {\n",
       "        vertical-align: top;\n",
       "    }\n",
       "\n",
       "    .dataframe thead th {\n",
       "        text-align: right;\n",
       "    }\n",
       "</style>\n",
       "<table border=\"1\" class=\"dataframe\">\n",
       "  <thead>\n",
       "    <tr style=\"text-align: right;\">\n",
       "      <th></th>\n",
       "      <th>schedule_date</th>\n",
       "      <th>schedule_season</th>\n",
       "      <th>schedule_week</th>\n",
       "      <th>team</th>\n",
       "      <th>score</th>\n",
       "      <th>opponent_score</th>\n",
       "      <th>team_favorite_id</th>\n",
       "      <th>spread_favorite</th>\n",
       "      <th>over_under_line</th>\n",
       "      <th>margin</th>\n",
       "      <th>home_team</th>\n",
       "      <th>id</th>\n",
       "    </tr>\n",
       "  </thead>\n",
       "  <tbody>\n",
       "    <tr>\n",
       "      <th>0</th>\n",
       "      <td>2010-09-09</td>\n",
       "      <td>2010</td>\n",
       "      <td>1</td>\n",
       "      <td>MIN</td>\n",
       "      <td>9.0</td>\n",
       "      <td>14.0</td>\n",
       "      <td>NO</td>\n",
       "      <td>-5.0</td>\n",
       "      <td>49.5</td>\n",
       "      <td>-5.0</td>\n",
       "      <td>NO</td>\n",
       "      <td>MIN2010-09-09NO</td>\n",
       "    </tr>\n",
       "    <tr>\n",
       "      <th>0</th>\n",
       "      <td>2010-09-09</td>\n",
       "      <td>2010</td>\n",
       "      <td>1</td>\n",
       "      <td>NO</td>\n",
       "      <td>14.0</td>\n",
       "      <td>9.0</td>\n",
       "      <td>NO</td>\n",
       "      <td>-5.0</td>\n",
       "      <td>49.5</td>\n",
       "      <td>5.0</td>\n",
       "      <td>NO</td>\n",
       "      <td>NO2010-09-09MIN</td>\n",
       "    </tr>\n",
       "    <tr>\n",
       "      <th>10</th>\n",
       "      <td>2010-09-12</td>\n",
       "      <td>2010</td>\n",
       "      <td>1</td>\n",
       "      <td>ARI</td>\n",
       "      <td>17.0</td>\n",
       "      <td>13.0</td>\n",
       "      <td>ARI</td>\n",
       "      <td>-3.0</td>\n",
       "      <td>39.5</td>\n",
       "      <td>4.0</td>\n",
       "      <td>LAR</td>\n",
       "      <td>ARI2010-09-12LAR</td>\n",
       "    </tr>\n",
       "    <tr>\n",
       "      <th>8</th>\n",
       "      <td>2010-09-12</td>\n",
       "      <td>2010</td>\n",
       "      <td>1</td>\n",
       "      <td>ATL</td>\n",
       "      <td>9.0</td>\n",
       "      <td>15.0</td>\n",
       "      <td>ATL</td>\n",
       "      <td>-1.5</td>\n",
       "      <td>39.5</td>\n",
       "      <td>-6.0</td>\n",
       "      <td>PIT</td>\n",
       "      <td>ATL2010-09-12PIT</td>\n",
       "    </tr>\n",
       "    <tr>\n",
       "      <th>1</th>\n",
       "      <td>2010-09-12</td>\n",
       "      <td>2010</td>\n",
       "      <td>1</td>\n",
       "      <td>BUF</td>\n",
       "      <td>10.0</td>\n",
       "      <td>15.0</td>\n",
       "      <td>MIA</td>\n",
       "      <td>-3.0</td>\n",
       "      <td>39.0</td>\n",
       "      <td>-5.0</td>\n",
       "      <td>BUF</td>\n",
       "      <td>BUF2010-09-12MIA</td>\n",
       "    </tr>\n",
       "  </tbody>\n",
       "</table>\n",
       "</div>"
      ],
      "text/plain": [
       "   schedule_date  schedule_season schedule_week team  score  opponent_score  \\\n",
       "0     2010-09-09             2010             1  MIN    9.0            14.0   \n",
       "0     2010-09-09             2010             1   NO   14.0             9.0   \n",
       "10    2010-09-12             2010             1  ARI   17.0            13.0   \n",
       "8     2010-09-12             2010             1  ATL    9.0            15.0   \n",
       "1     2010-09-12             2010             1  BUF   10.0            15.0   \n",
       "\n",
       "   team_favorite_id  spread_favorite  over_under_line  margin home_team  \\\n",
       "0                NO             -5.0             49.5    -5.0        NO   \n",
       "0                NO             -5.0             49.5     5.0        NO   \n",
       "10              ARI             -3.0             39.5     4.0       LAR   \n",
       "8               ATL             -1.5             39.5    -6.0       PIT   \n",
       "1               MIA             -3.0             39.0    -5.0       BUF   \n",
       "\n",
       "                  id  \n",
       "0    MIN2010-09-09NO  \n",
       "0    NO2010-09-09MIN  \n",
       "10  ARI2010-09-12LAR  \n",
       "8   ATL2010-09-12PIT  \n",
       "1   BUF2010-09-12MIA  "
      ]
     },
     "execution_count": 213,
     "metadata": {},
     "output_type": "execute_result"
    }
   ],
   "source": [
    "nfl_ha.head()"
   ]
  },
  {
   "cell_type": "code",
   "execution_count": 215,
   "metadata": {},
   "outputs": [],
   "source": [
    "nfl_ha.to_csv('./data/nfl_scores_agg.csv')"
   ]
  },
  {
   "cell_type": "code",
   "execution_count": null,
   "metadata": {},
   "outputs": [],
   "source": []
  }
 ],
 "metadata": {
  "kernelspec": {
   "display_name": "Python 3",
   "language": "python",
   "name": "python3"
  },
  "language_info": {
   "codemirror_mode": {
    "name": "ipython",
    "version": 3
   },
   "file_extension": ".py",
   "mimetype": "text/x-python",
   "name": "python",
   "nbconvert_exporter": "python",
   "pygments_lexer": "ipython3",
   "version": "3.7.7"
  }
 },
 "nbformat": 4,
 "nbformat_minor": 4
}
