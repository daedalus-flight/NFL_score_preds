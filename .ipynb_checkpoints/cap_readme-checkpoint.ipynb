{
 "cells": [
  {
   "cell_type": "markdown",
   "metadata": {},
   "source": [
    "## Predicting NFL Game Scores to Estimate Potential Wagering Opportunities\n",
    "\n",
    "---\n",
    "\n",
    "### Problem Statement\n",
    "\n",
    "*State lawmakers around the country may look to legalize sports betting as a way to raise revenue. Commercial casinos generated over $10 billion in state and local gaming tax revenue last year, and that doesn’t include sales and income tax tied to casino gaming. State governments have gotten addicted to the lucrative tax revenue from casinos; legalizing sports betting is the next logical way to get a little more juice out of the same orange. - Forbes Magazine July 1, 2020*\n",
    "\n",
    "As someone who is optimistic about participating in the long term prospects of the sports gambling industry, an essential first step in understanding the industry better is to examine the factors that are most important to oddsmakers in determining point spreads and over/under lines for NFL games.\n",
    "\n",
    "I will take a multi-layered, \"top-down\", approach towards predicting the scores of NFL games and comparing those scores to the point spreads and over/under lines (based on the sum of both teams' scores) set by oddsmakers. I will predict scores by using the following features:\n",
    "\n",
    "* team's total points scored vs total points allowed data (ps/pa)\n",
    "* ps/pa, offensive yards gained, offensive yards allowed.\n",
    "* ps/pa, passing/rushing yards gained, passing/rushing yards allowed.\n",
    "* individual player statistics (pass, rush, receiving, scoring and yardage), team  pass/rushing defense, special teams rank.\n",
    "* applying any or parts of the above to a model that adds changes in betting spreads and over/under lines.\n",
    "\n",
    "__Modeling__ will entail examining continuous regressions and multiple alternative solutions including supervised and unsupervised learning - basically set up the variables correctly then plug and chug.\n",
    "\n",
    "__Accuracy__ ideally would be measured through back testing - cash is king. Would be interesting to look at equal-weighted vs alpha-weighted (opportunity size) betting sizes. MSE and other appropriate continuous error measures will be evaluated.\n",
    "\n",
    "__Risks__ primary risks are unknown unknowns. The last two layers of the potential features can get pretty granular and the architecture of presenting the independent variables will be challenging.\n",
    "\n",
    "__Goal Revision__ would involve using changes in betting lines on only the first two \"features\" bullet points above.\n",
    "\n",
    "---\n",
    "\n",
    "### Data\n",
    "\n",
    "Data consists of 2 pared down data sets from Kaggle taking data from 2005 to present.  \n",
    "- Intitial player stats data was over 1 million lines. Performed groupby's and data checks to confirm accuracy of stats and non-nulls.\n",
    "- Scores data accurate and have used before. Extensive EDA completed and good to go...just needs some revamping for application here.\n",
    "- Third data set to be added for more recent data. Holding off until ready for free trial to avoid paywall.\n",
    "\n",
    "---\n",
    "#### If there's time (not likely)\n",
    "- does this framework apply to other sports?\n",
    "- can we use NLP to get a sentiment feature from odds commentator blow-hards?\n",
    "\n",
    "\n",
    "\n"
   ]
  },
  {
   "cell_type": "code",
   "execution_count": null,
   "metadata": {},
   "outputs": [],
   "source": []
  }
 ],
 "metadata": {
  "kernelspec": {
   "display_name": "Python 3",
   "language": "python",
   "name": "python3"
  },
  "language_info": {
   "codemirror_mode": {
    "name": "ipython",
    "version": 3
   },
   "file_extension": ".py",
   "mimetype": "text/x-python",
   "name": "python",
   "nbconvert_exporter": "python",
   "pygments_lexer": "ipython3",
   "version": "3.7.7"
  }
 },
 "nbformat": 4,
 "nbformat_minor": 4
}
