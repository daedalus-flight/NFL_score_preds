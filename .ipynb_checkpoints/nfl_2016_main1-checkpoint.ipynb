{
 "cells": [
  {
   "cell_type": "code",
   "execution_count": 339,
   "metadata": {},
   "outputs": [],
   "source": [
    "import pandas as pd"
   ]
  },
  {
   "cell_type": "code",
   "execution_count": 340,
   "metadata": {},
   "outputs": [],
   "source": [
    "nfl = pd.read_csv('./data/spreadspoke_110820.csv', index_col = \"schedule_date\", parse_dates = True)"
   ]
  },
  {
   "cell_type": "markdown",
   "metadata": {},
   "source": [
    "### Data starts in 2011 Season"
   ]
  },
  {
   "cell_type": "code",
   "execution_count": 341,
   "metadata": {},
   "outputs": [],
   "source": [
    "nfl = pd.DataFrame(nfl.loc['2011-09-01':'2020-11-02'])"
   ]
  },
  {
   "cell_type": "code",
   "execution_count": 342,
   "metadata": {},
   "outputs": [],
   "source": [
    "nfl['over_under_line'] = nfl['over_under_line'].astype(float)"
   ]
  },
  {
   "cell_type": "code",
   "execution_count": 343,
   "metadata": {},
   "outputs": [],
   "source": [
    "nfl16 = nfl.iloc[:, :7]"
   ]
  },
  {
   "cell_type": "markdown",
   "metadata": {},
   "source": [
    "### Working on only 2016"
   ]
  },
  {
   "cell_type": "code",
   "execution_count": 344,
   "metadata": {},
   "outputs": [],
   "source": [
    "nfl16 = pd.DataFrame(nfl16.loc['2016-09-01':'2017-01-01'])"
   ]
  },
  {
   "cell_type": "code",
   "execution_count": 345,
   "metadata": {},
   "outputs": [],
   "source": [
    "nfl16.drop(columns = 'schedule_playoff',inplace=True)"
   ]
  },
  {
   "cell_type": "code",
   "execution_count": 346,
   "metadata": {},
   "outputs": [],
   "source": [
    "nfl16['margin'] = nfl16['score_home'] - nfl16['score_away']"
   ]
  },
  {
   "cell_type": "markdown",
   "metadata": {},
   "source": [
    "- changing team names to city abbreviations"
   ]
  },
  {
   "cell_type": "code",
   "execution_count": 347,
   "metadata": {},
   "outputs": [],
   "source": [
    "def desc_to_id(id):\n",
    "\n",
    "    id_dict = {\n",
    "        'Atlanta Falcons': 'ATL',\n",
    "        'Chicago Bears': 'CHI',\n",
    "        'Cleveland Browns': 'CLE',\n",
    "        'Green Bay Packers': \"GB\",\n",
    "        'Indianapolis Colts':'IND',\n",
    "        'Jacksonville Jaguars':'JAX',\n",
    "        'New Orleans Saints': 'NO',\n",
    "        'New York Jets':'NYJ',\n",
    "        'Philadelphia Eagles':'PHI',\n",
    "        'Seattle Seahawks':'SEA',\n",
    "        'St. Louis Rams': 'LAR',\n",
    "        'Tampa Bay Buccaneers':'TB',\n",
    "        'Tennessee Titans':'TEN',\n",
    "        'Washington Redskins':'WAS',\n",
    "        'Denver Broncos':'DEN',\n",
    "        'Baltimore Ravens':'BAL',\n",
    "        'Buffalo Bills':'BUF',\n",
    "        'Carolina Panthers':'CAR',\n",
    "        'Cincinnati Bengals': 'CIN',\n",
    "        'Detroit Lions': 'DET',\n",
    "        'Kansas City Chiefs': 'KC',\n",
    "        'Miami Dolphins': 'MIA',\n",
    "        'Minnesota Vikings':'MIN',\n",
    "        'New England Patriots':'NE',\n",
    "        'New York Giants':'NYG',\n",
    "        'San Francisco 49ers':'SF',\n",
    "        'Dallas Cowboys': 'DAL',\n",
    "        'Oakland Raiders': 'OAK',\n",
    "        'Pittsburgh Steelers':'PIT',\n",
    "        'San Diego Chargers':'LAC',\n",
    "        'Arizona Cardinals': 'ARI',\n",
    "        'Houston Texans':'HOU',\n",
    "        'Los Angeles Rams':'LAR',\n",
    "        'Los Angeles Chargers':'LAC'\n",
    "    }\n",
    "    \n",
    "    try:\n",
    "        return id_dict[id]\n",
    "    except:\n",
    "        return 'CHECK!'"
   ]
  },
  {
   "cell_type": "code",
   "execution_count": 348,
   "metadata": {},
   "outputs": [],
   "source": [
    "nfl16['team_away'] = nfl16['team_away'].apply(desc_to_id)\n",
    "nfl16['team_home'] = nfl16['team_home'].apply(desc_to_id)"
   ]
  },
  {
   "cell_type": "markdown",
   "metadata": {},
   "source": [
    "- 32 teams so 16 rows per week"
   ]
  },
  {
   "cell_type": "code",
   "execution_count": 349,
   "metadata": {},
   "outputs": [
    {
     "data": {
      "text/plain": [
       "(256, 7)"
      ]
     },
     "execution_count": 349,
     "metadata": {},
     "output_type": "execute_result"
    }
   ],
   "source": [
    "nfl16.shape"
   ]
  },
  {
   "cell_type": "code",
   "execution_count": 350,
   "metadata": {},
   "outputs": [
    {
     "data": {
      "text/html": [
       "<div>\n",
       "<style scoped>\n",
       "    .dataframe tbody tr th:only-of-type {\n",
       "        vertical-align: middle;\n",
       "    }\n",
       "\n",
       "    .dataframe tbody tr th {\n",
       "        vertical-align: top;\n",
       "    }\n",
       "\n",
       "    .dataframe thead th {\n",
       "        text-align: right;\n",
       "    }\n",
       "</style>\n",
       "<table border=\"1\" class=\"dataframe\">\n",
       "  <thead>\n",
       "    <tr style=\"text-align: right;\">\n",
       "      <th></th>\n",
       "      <th>schedule_season</th>\n",
       "      <th>schedule_week</th>\n",
       "      <th>team_home</th>\n",
       "      <th>score_home</th>\n",
       "      <th>score_away</th>\n",
       "      <th>team_away</th>\n",
       "      <th>margin</th>\n",
       "      <th>home_team</th>\n",
       "    </tr>\n",
       "    <tr>\n",
       "      <th>schedule_date</th>\n",
       "      <th></th>\n",
       "      <th></th>\n",
       "      <th></th>\n",
       "      <th></th>\n",
       "      <th></th>\n",
       "      <th></th>\n",
       "      <th></th>\n",
       "      <th></th>\n",
       "    </tr>\n",
       "  </thead>\n",
       "  <tbody>\n",
       "    <tr>\n",
       "      <th>2016-12-26</th>\n",
       "      <td>2016</td>\n",
       "      <td>16</td>\n",
       "      <td>DAL</td>\n",
       "      <td>42.0</td>\n",
       "      <td>21.0</td>\n",
       "      <td>DET</td>\n",
       "      <td>21.0</td>\n",
       "      <td>DAL</td>\n",
       "    </tr>\n",
       "    <tr>\n",
       "      <th>2017-01-01</th>\n",
       "      <td>2016</td>\n",
       "      <td>17</td>\n",
       "      <td>ATL</td>\n",
       "      <td>38.0</td>\n",
       "      <td>32.0</td>\n",
       "      <td>NO</td>\n",
       "      <td>6.0</td>\n",
       "      <td>ATL</td>\n",
       "    </tr>\n",
       "    <tr>\n",
       "      <th>2017-01-01</th>\n",
       "      <td>2016</td>\n",
       "      <td>17</td>\n",
       "      <td>CIN</td>\n",
       "      <td>27.0</td>\n",
       "      <td>10.0</td>\n",
       "      <td>BAL</td>\n",
       "      <td>17.0</td>\n",
       "      <td>CIN</td>\n",
       "    </tr>\n",
       "    <tr>\n",
       "      <th>2017-01-01</th>\n",
       "      <td>2016</td>\n",
       "      <td>17</td>\n",
       "      <td>DEN</td>\n",
       "      <td>24.0</td>\n",
       "      <td>6.0</td>\n",
       "      <td>OAK</td>\n",
       "      <td>18.0</td>\n",
       "      <td>DEN</td>\n",
       "    </tr>\n",
       "    <tr>\n",
       "      <th>2017-01-01</th>\n",
       "      <td>2016</td>\n",
       "      <td>17</td>\n",
       "      <td>DET</td>\n",
       "      <td>24.0</td>\n",
       "      <td>31.0</td>\n",
       "      <td>GB</td>\n",
       "      <td>-7.0</td>\n",
       "      <td>DET</td>\n",
       "    </tr>\n",
       "    <tr>\n",
       "      <th>2017-01-01</th>\n",
       "      <td>2016</td>\n",
       "      <td>17</td>\n",
       "      <td>IND</td>\n",
       "      <td>24.0</td>\n",
       "      <td>20.0</td>\n",
       "      <td>JAX</td>\n",
       "      <td>4.0</td>\n",
       "      <td>IND</td>\n",
       "    </tr>\n",
       "    <tr>\n",
       "      <th>2017-01-01</th>\n",
       "      <td>2016</td>\n",
       "      <td>17</td>\n",
       "      <td>LAR</td>\n",
       "      <td>6.0</td>\n",
       "      <td>44.0</td>\n",
       "      <td>ARI</td>\n",
       "      <td>-38.0</td>\n",
       "      <td>LAR</td>\n",
       "    </tr>\n",
       "    <tr>\n",
       "      <th>2017-01-01</th>\n",
       "      <td>2016</td>\n",
       "      <td>17</td>\n",
       "      <td>MIA</td>\n",
       "      <td>14.0</td>\n",
       "      <td>35.0</td>\n",
       "      <td>NE</td>\n",
       "      <td>-21.0</td>\n",
       "      <td>MIA</td>\n",
       "    </tr>\n",
       "    <tr>\n",
       "      <th>2017-01-01</th>\n",
       "      <td>2016</td>\n",
       "      <td>17</td>\n",
       "      <td>MIN</td>\n",
       "      <td>38.0</td>\n",
       "      <td>10.0</td>\n",
       "      <td>CHI</td>\n",
       "      <td>28.0</td>\n",
       "      <td>MIN</td>\n",
       "    </tr>\n",
       "    <tr>\n",
       "      <th>2017-01-01</th>\n",
       "      <td>2016</td>\n",
       "      <td>17</td>\n",
       "      <td>NYJ</td>\n",
       "      <td>30.0</td>\n",
       "      <td>10.0</td>\n",
       "      <td>BUF</td>\n",
       "      <td>20.0</td>\n",
       "      <td>NYJ</td>\n",
       "    </tr>\n",
       "    <tr>\n",
       "      <th>2017-01-01</th>\n",
       "      <td>2016</td>\n",
       "      <td>17</td>\n",
       "      <td>PHI</td>\n",
       "      <td>27.0</td>\n",
       "      <td>13.0</td>\n",
       "      <td>DAL</td>\n",
       "      <td>14.0</td>\n",
       "      <td>PHI</td>\n",
       "    </tr>\n",
       "    <tr>\n",
       "      <th>2017-01-01</th>\n",
       "      <td>2016</td>\n",
       "      <td>17</td>\n",
       "      <td>PIT</td>\n",
       "      <td>27.0</td>\n",
       "      <td>24.0</td>\n",
       "      <td>CLE</td>\n",
       "      <td>3.0</td>\n",
       "      <td>PIT</td>\n",
       "    </tr>\n",
       "    <tr>\n",
       "      <th>2017-01-01</th>\n",
       "      <td>2016</td>\n",
       "      <td>17</td>\n",
       "      <td>LAC</td>\n",
       "      <td>27.0</td>\n",
       "      <td>37.0</td>\n",
       "      <td>KC</td>\n",
       "      <td>-10.0</td>\n",
       "      <td>LAC</td>\n",
       "    </tr>\n",
       "    <tr>\n",
       "      <th>2017-01-01</th>\n",
       "      <td>2016</td>\n",
       "      <td>17</td>\n",
       "      <td>SF</td>\n",
       "      <td>23.0</td>\n",
       "      <td>25.0</td>\n",
       "      <td>SEA</td>\n",
       "      <td>-2.0</td>\n",
       "      <td>SF</td>\n",
       "    </tr>\n",
       "    <tr>\n",
       "      <th>2017-01-01</th>\n",
       "      <td>2016</td>\n",
       "      <td>17</td>\n",
       "      <td>TB</td>\n",
       "      <td>17.0</td>\n",
       "      <td>16.0</td>\n",
       "      <td>CAR</td>\n",
       "      <td>1.0</td>\n",
       "      <td>TB</td>\n",
       "    </tr>\n",
       "    <tr>\n",
       "      <th>2017-01-01</th>\n",
       "      <td>2016</td>\n",
       "      <td>17</td>\n",
       "      <td>TEN</td>\n",
       "      <td>24.0</td>\n",
       "      <td>17.0</td>\n",
       "      <td>HOU</td>\n",
       "      <td>7.0</td>\n",
       "      <td>TEN</td>\n",
       "    </tr>\n",
       "    <tr>\n",
       "      <th>2017-01-01</th>\n",
       "      <td>2016</td>\n",
       "      <td>17</td>\n",
       "      <td>WAS</td>\n",
       "      <td>10.0</td>\n",
       "      <td>19.0</td>\n",
       "      <td>NYG</td>\n",
       "      <td>-9.0</td>\n",
       "      <td>WAS</td>\n",
       "    </tr>\n",
       "  </tbody>\n",
       "</table>\n",
       "</div>"
      ],
      "text/plain": [
       "               schedule_season schedule_week team_home  score_home  \\\n",
       "schedule_date                                                        \n",
       "2016-12-26                2016            16       DAL        42.0   \n",
       "2017-01-01                2016            17       ATL        38.0   \n",
       "2017-01-01                2016            17       CIN        27.0   \n",
       "2017-01-01                2016            17       DEN        24.0   \n",
       "2017-01-01                2016            17       DET        24.0   \n",
       "2017-01-01                2016            17       IND        24.0   \n",
       "2017-01-01                2016            17       LAR         6.0   \n",
       "2017-01-01                2016            17       MIA        14.0   \n",
       "2017-01-01                2016            17       MIN        38.0   \n",
       "2017-01-01                2016            17       NYJ        30.0   \n",
       "2017-01-01                2016            17       PHI        27.0   \n",
       "2017-01-01                2016            17       PIT        27.0   \n",
       "2017-01-01                2016            17       LAC        27.0   \n",
       "2017-01-01                2016            17        SF        23.0   \n",
       "2017-01-01                2016            17        TB        17.0   \n",
       "2017-01-01                2016            17       TEN        24.0   \n",
       "2017-01-01                2016            17       WAS        10.0   \n",
       "\n",
       "               score_away team_away  margin home_team  \n",
       "schedule_date                                          \n",
       "2016-12-26           21.0       DET    21.0       DAL  \n",
       "2017-01-01           32.0        NO     6.0       ATL  \n",
       "2017-01-01           10.0       BAL    17.0       CIN  \n",
       "2017-01-01            6.0       OAK    18.0       DEN  \n",
       "2017-01-01           31.0        GB    -7.0       DET  \n",
       "2017-01-01           20.0       JAX     4.0       IND  \n",
       "2017-01-01           44.0       ARI   -38.0       LAR  \n",
       "2017-01-01           35.0        NE   -21.0       MIA  \n",
       "2017-01-01           10.0       CHI    28.0       MIN  \n",
       "2017-01-01           10.0       BUF    20.0       NYJ  \n",
       "2017-01-01           13.0       DAL    14.0       PHI  \n",
       "2017-01-01           24.0       CLE     3.0       PIT  \n",
       "2017-01-01           37.0        KC   -10.0       LAC  \n",
       "2017-01-01           25.0       SEA    -2.0        SF  \n",
       "2017-01-01           16.0       CAR     1.0        TB  \n",
       "2017-01-01           17.0       HOU     7.0       TEN  \n",
       "2017-01-01           19.0       NYG    -9.0       WAS  "
      ]
     },
     "execution_count": 350,
     "metadata": {},
     "output_type": "execute_result"
    }
   ],
   "source": [
    "nfl16['home_team']= nfl16['team_home']\n",
    "nfl16.tail(17)"
   ]
  },
  {
   "cell_type": "code",
   "execution_count": 351,
   "metadata": {},
   "outputs": [],
   "source": [
    "#nfl16['id'] = nfl16['schedule_season'].astype(str) + nfl16['team_home'] + nfl16['schedule_week']"
   ]
  },
  {
   "cell_type": "code",
   "execution_count": 352,
   "metadata": {},
   "outputs": [
    {
     "data": {
      "text/html": [
       "<div>\n",
       "<style scoped>\n",
       "    .dataframe tbody tr th:only-of-type {\n",
       "        vertical-align: middle;\n",
       "    }\n",
       "\n",
       "    .dataframe tbody tr th {\n",
       "        vertical-align: top;\n",
       "    }\n",
       "\n",
       "    .dataframe thead th {\n",
       "        text-align: right;\n",
       "    }\n",
       "</style>\n",
       "<table border=\"1\" class=\"dataframe\">\n",
       "  <thead>\n",
       "    <tr style=\"text-align: right;\">\n",
       "      <th></th>\n",
       "      <th>schedule_season</th>\n",
       "      <th>schedule_week</th>\n",
       "      <th>team_home</th>\n",
       "      <th>score_home</th>\n",
       "      <th>score_away</th>\n",
       "      <th>team_away</th>\n",
       "      <th>margin</th>\n",
       "      <th>home_team</th>\n",
       "    </tr>\n",
       "    <tr>\n",
       "      <th>schedule_date</th>\n",
       "      <th></th>\n",
       "      <th></th>\n",
       "      <th></th>\n",
       "      <th></th>\n",
       "      <th></th>\n",
       "      <th></th>\n",
       "      <th></th>\n",
       "      <th></th>\n",
       "    </tr>\n",
       "  </thead>\n",
       "  <tbody>\n",
       "    <tr>\n",
       "      <th>2016-09-08</th>\n",
       "      <td>2016</td>\n",
       "      <td>1</td>\n",
       "      <td>DEN</td>\n",
       "      <td>21.0</td>\n",
       "      <td>20.0</td>\n",
       "      <td>CAR</td>\n",
       "      <td>1.0</td>\n",
       "      <td>DEN</td>\n",
       "    </tr>\n",
       "    <tr>\n",
       "      <th>2016-09-11</th>\n",
       "      <td>2016</td>\n",
       "      <td>1</td>\n",
       "      <td>ARI</td>\n",
       "      <td>21.0</td>\n",
       "      <td>23.0</td>\n",
       "      <td>NE</td>\n",
       "      <td>-2.0</td>\n",
       "      <td>ARI</td>\n",
       "    </tr>\n",
       "    <tr>\n",
       "      <th>2016-09-11</th>\n",
       "      <td>2016</td>\n",
       "      <td>1</td>\n",
       "      <td>ATL</td>\n",
       "      <td>24.0</td>\n",
       "      <td>31.0</td>\n",
       "      <td>TB</td>\n",
       "      <td>-7.0</td>\n",
       "      <td>ATL</td>\n",
       "    </tr>\n",
       "    <tr>\n",
       "      <th>2016-09-11</th>\n",
       "      <td>2016</td>\n",
       "      <td>1</td>\n",
       "      <td>BAL</td>\n",
       "      <td>13.0</td>\n",
       "      <td>7.0</td>\n",
       "      <td>BUF</td>\n",
       "      <td>6.0</td>\n",
       "      <td>BAL</td>\n",
       "    </tr>\n",
       "    <tr>\n",
       "      <th>2016-09-11</th>\n",
       "      <td>2016</td>\n",
       "      <td>1</td>\n",
       "      <td>DAL</td>\n",
       "      <td>19.0</td>\n",
       "      <td>20.0</td>\n",
       "      <td>NYG</td>\n",
       "      <td>-1.0</td>\n",
       "      <td>DAL</td>\n",
       "    </tr>\n",
       "  </tbody>\n",
       "</table>\n",
       "</div>"
      ],
      "text/plain": [
       "               schedule_season schedule_week team_home  score_home  \\\n",
       "schedule_date                                                        \n",
       "2016-09-08                2016             1       DEN        21.0   \n",
       "2016-09-11                2016             1       ARI        21.0   \n",
       "2016-09-11                2016             1       ATL        24.0   \n",
       "2016-09-11                2016             1       BAL        13.0   \n",
       "2016-09-11                2016             1       DAL        19.0   \n",
       "\n",
       "               score_away team_away  margin home_team  \n",
       "schedule_date                                          \n",
       "2016-09-08           20.0       CAR     1.0       DEN  \n",
       "2016-09-11           23.0        NE    -2.0       ARI  \n",
       "2016-09-11           31.0        TB    -7.0       ATL  \n",
       "2016-09-11            7.0       BUF     6.0       BAL  \n",
       "2016-09-11           20.0       NYG    -1.0       DAL  "
      ]
     },
     "execution_count": 352,
     "metadata": {},
     "output_type": "execute_result"
    }
   ],
   "source": [
    "nfl16.head()"
   ]
  },
  {
   "cell_type": "markdown",
   "metadata": {},
   "source": [
    "### need to cut to week 6 here?"
   ]
  },
  {
   "cell_type": "code",
   "execution_count": 353,
   "metadata": {},
   "outputs": [],
   "source": [
    "#nfl16_a[nfl16_a['schedule_week']=='6']"
   ]
  },
  {
   "cell_type": "code",
   "execution_count": 354,
   "metadata": {},
   "outputs": [],
   "source": [
    "# h is for home designation\n",
    "nfl16_h = nfl16.rename(columns= {\n",
    "    'team_home': 'team',\n",
    "    'score_home': 'score',\n",
    "    'score_away': 'opponent_score',    \n",
    "})"
   ]
  },
  {
   "cell_type": "markdown",
   "metadata": {},
   "source": [
    "- needed to add unique id"
   ]
  },
  {
   "cell_type": "code",
   "execution_count": 355,
   "metadata": {},
   "outputs": [],
   "source": [
    "nfl16_h['id'] = nfl16_h['schedule_season'].astype(str) + nfl16_h['team'] + nfl16_h['schedule_week']"
   ]
  },
  {
   "cell_type": "code",
   "execution_count": 356,
   "metadata": {},
   "outputs": [
    {
     "data": {
      "text/html": [
       "<div>\n",
       "<style scoped>\n",
       "    .dataframe tbody tr th:only-of-type {\n",
       "        vertical-align: middle;\n",
       "    }\n",
       "\n",
       "    .dataframe tbody tr th {\n",
       "        vertical-align: top;\n",
       "    }\n",
       "\n",
       "    .dataframe thead th {\n",
       "        text-align: right;\n",
       "    }\n",
       "</style>\n",
       "<table border=\"1\" class=\"dataframe\">\n",
       "  <thead>\n",
       "    <tr style=\"text-align: right;\">\n",
       "      <th></th>\n",
       "      <th>schedule_season</th>\n",
       "      <th>schedule_week</th>\n",
       "      <th>team</th>\n",
       "      <th>score</th>\n",
       "      <th>opponent_score</th>\n",
       "      <th>team_away</th>\n",
       "      <th>margin</th>\n",
       "      <th>home_team</th>\n",
       "      <th>id</th>\n",
       "    </tr>\n",
       "    <tr>\n",
       "      <th>schedule_date</th>\n",
       "      <th></th>\n",
       "      <th></th>\n",
       "      <th></th>\n",
       "      <th></th>\n",
       "      <th></th>\n",
       "      <th></th>\n",
       "      <th></th>\n",
       "      <th></th>\n",
       "      <th></th>\n",
       "    </tr>\n",
       "  </thead>\n",
       "  <tbody>\n",
       "    <tr>\n",
       "      <th>2016-09-08</th>\n",
       "      <td>2016</td>\n",
       "      <td>1</td>\n",
       "      <td>DEN</td>\n",
       "      <td>21.0</td>\n",
       "      <td>20.0</td>\n",
       "      <td>CAR</td>\n",
       "      <td>1.0</td>\n",
       "      <td>DEN</td>\n",
       "      <td>2016DEN1</td>\n",
       "    </tr>\n",
       "    <tr>\n",
       "      <th>2016-09-11</th>\n",
       "      <td>2016</td>\n",
       "      <td>1</td>\n",
       "      <td>ARI</td>\n",
       "      <td>21.0</td>\n",
       "      <td>23.0</td>\n",
       "      <td>NE</td>\n",
       "      <td>-2.0</td>\n",
       "      <td>ARI</td>\n",
       "      <td>2016ARI1</td>\n",
       "    </tr>\n",
       "    <tr>\n",
       "      <th>2016-09-11</th>\n",
       "      <td>2016</td>\n",
       "      <td>1</td>\n",
       "      <td>ATL</td>\n",
       "      <td>24.0</td>\n",
       "      <td>31.0</td>\n",
       "      <td>TB</td>\n",
       "      <td>-7.0</td>\n",
       "      <td>ATL</td>\n",
       "      <td>2016ATL1</td>\n",
       "    </tr>\n",
       "    <tr>\n",
       "      <th>2016-09-11</th>\n",
       "      <td>2016</td>\n",
       "      <td>1</td>\n",
       "      <td>BAL</td>\n",
       "      <td>13.0</td>\n",
       "      <td>7.0</td>\n",
       "      <td>BUF</td>\n",
       "      <td>6.0</td>\n",
       "      <td>BAL</td>\n",
       "      <td>2016BAL1</td>\n",
       "    </tr>\n",
       "    <tr>\n",
       "      <th>2016-09-11</th>\n",
       "      <td>2016</td>\n",
       "      <td>1</td>\n",
       "      <td>DAL</td>\n",
       "      <td>19.0</td>\n",
       "      <td>20.0</td>\n",
       "      <td>NYG</td>\n",
       "      <td>-1.0</td>\n",
       "      <td>DAL</td>\n",
       "      <td>2016DAL1</td>\n",
       "    </tr>\n",
       "  </tbody>\n",
       "</table>\n",
       "</div>"
      ],
      "text/plain": [
       "               schedule_season schedule_week team  score  opponent_score  \\\n",
       "schedule_date                                                              \n",
       "2016-09-08                2016             1  DEN   21.0            20.0   \n",
       "2016-09-11                2016             1  ARI   21.0            23.0   \n",
       "2016-09-11                2016             1  ATL   24.0            31.0   \n",
       "2016-09-11                2016             1  BAL   13.0             7.0   \n",
       "2016-09-11                2016             1  DAL   19.0            20.0   \n",
       "\n",
       "              team_away  margin home_team        id  \n",
       "schedule_date                                        \n",
       "2016-09-08          CAR     1.0       DEN  2016DEN1  \n",
       "2016-09-11           NE    -2.0       ARI  2016ARI1  \n",
       "2016-09-11           TB    -7.0       ATL  2016ATL1  \n",
       "2016-09-11          BUF     6.0       BAL  2016BAL1  \n",
       "2016-09-11          NYG    -1.0       DAL  2016DAL1  "
      ]
     },
     "execution_count": 356,
     "metadata": {},
     "output_type": "execute_result"
    }
   ],
   "source": [
    "nfl16_h.head()"
   ]
  },
  {
   "cell_type": "code",
   "execution_count": 357,
   "metadata": {},
   "outputs": [],
   "source": [
    "nfl16_h.drop(columns = 'team_away', inplace=True)"
   ]
  },
  {
   "cell_type": "code",
   "execution_count": 358,
   "metadata": {},
   "outputs": [
    {
     "data": {
      "text/plain": [
       "(256, 8)"
      ]
     },
     "execution_count": 358,
     "metadata": {},
     "output_type": "execute_result"
    }
   ],
   "source": [
    "nfl16_h.shape"
   ]
  },
  {
   "cell_type": "code",
   "execution_count": 359,
   "metadata": {},
   "outputs": [],
   "source": [
    "# a is for home designation\n",
    "nfl16_a = nfl16.rename(columns= {\n",
    "    'team_away': 'team',\n",
    "    'score_away': 'score',\n",
    "    'score_home': 'opponent_score',    \n",
    "})"
   ]
  },
  {
   "cell_type": "code",
   "execution_count": 361,
   "metadata": {},
   "outputs": [
    {
     "data": {
      "text/html": [
       "<div>\n",
       "<style scoped>\n",
       "    .dataframe tbody tr th:only-of-type {\n",
       "        vertical-align: middle;\n",
       "    }\n",
       "\n",
       "    .dataframe tbody tr th {\n",
       "        vertical-align: top;\n",
       "    }\n",
       "\n",
       "    .dataframe thead th {\n",
       "        text-align: right;\n",
       "    }\n",
       "</style>\n",
       "<table border=\"1\" class=\"dataframe\">\n",
       "  <thead>\n",
       "    <tr style=\"text-align: right;\">\n",
       "      <th></th>\n",
       "      <th>schedule_season</th>\n",
       "      <th>schedule_week</th>\n",
       "      <th>team_home</th>\n",
       "      <th>opponent_score</th>\n",
       "      <th>score</th>\n",
       "      <th>team</th>\n",
       "      <th>margin</th>\n",
       "      <th>home_team</th>\n",
       "    </tr>\n",
       "    <tr>\n",
       "      <th>schedule_date</th>\n",
       "      <th></th>\n",
       "      <th></th>\n",
       "      <th></th>\n",
       "      <th></th>\n",
       "      <th></th>\n",
       "      <th></th>\n",
       "      <th></th>\n",
       "      <th></th>\n",
       "    </tr>\n",
       "  </thead>\n",
       "  <tbody>\n",
       "    <tr>\n",
       "      <th>2016-09-08</th>\n",
       "      <td>2016</td>\n",
       "      <td>1</td>\n",
       "      <td>DEN</td>\n",
       "      <td>21.0</td>\n",
       "      <td>20.0</td>\n",
       "      <td>CAR</td>\n",
       "      <td>1.0</td>\n",
       "      <td>DEN</td>\n",
       "    </tr>\n",
       "    <tr>\n",
       "      <th>2016-09-11</th>\n",
       "      <td>2016</td>\n",
       "      <td>1</td>\n",
       "      <td>ARI</td>\n",
       "      <td>21.0</td>\n",
       "      <td>23.0</td>\n",
       "      <td>NE</td>\n",
       "      <td>-2.0</td>\n",
       "      <td>ARI</td>\n",
       "    </tr>\n",
       "    <tr>\n",
       "      <th>2016-09-11</th>\n",
       "      <td>2016</td>\n",
       "      <td>1</td>\n",
       "      <td>ATL</td>\n",
       "      <td>24.0</td>\n",
       "      <td>31.0</td>\n",
       "      <td>TB</td>\n",
       "      <td>-7.0</td>\n",
       "      <td>ATL</td>\n",
       "    </tr>\n",
       "    <tr>\n",
       "      <th>2016-09-11</th>\n",
       "      <td>2016</td>\n",
       "      <td>1</td>\n",
       "      <td>BAL</td>\n",
       "      <td>13.0</td>\n",
       "      <td>7.0</td>\n",
       "      <td>BUF</td>\n",
       "      <td>6.0</td>\n",
       "      <td>BAL</td>\n",
       "    </tr>\n",
       "    <tr>\n",
       "      <th>2016-09-11</th>\n",
       "      <td>2016</td>\n",
       "      <td>1</td>\n",
       "      <td>DAL</td>\n",
       "      <td>19.0</td>\n",
       "      <td>20.0</td>\n",
       "      <td>NYG</td>\n",
       "      <td>-1.0</td>\n",
       "      <td>DAL</td>\n",
       "    </tr>\n",
       "  </tbody>\n",
       "</table>\n",
       "</div>"
      ],
      "text/plain": [
       "               schedule_season schedule_week team_home  opponent_score  score  \\\n",
       "schedule_date                                                                   \n",
       "2016-09-08                2016             1       DEN            21.0   20.0   \n",
       "2016-09-11                2016             1       ARI            21.0   23.0   \n",
       "2016-09-11                2016             1       ATL            24.0   31.0   \n",
       "2016-09-11                2016             1       BAL            13.0    7.0   \n",
       "2016-09-11                2016             1       DAL            19.0   20.0   \n",
       "\n",
       "              team  margin home_team  \n",
       "schedule_date                         \n",
       "2016-09-08     CAR     1.0       DEN  \n",
       "2016-09-11      NE    -2.0       ARI  \n",
       "2016-09-11      TB    -7.0       ATL  \n",
       "2016-09-11     BUF     6.0       BAL  \n",
       "2016-09-11     NYG    -1.0       DAL  "
      ]
     },
     "execution_count": 361,
     "metadata": {},
     "output_type": "execute_result"
    }
   ],
   "source": [
    "nfl16_a.head()"
   ]
  },
  {
   "cell_type": "markdown",
   "metadata": {},
   "source": [
    "- need to add unique \"id\""
   ]
  },
  {
   "cell_type": "code",
   "execution_count": 362,
   "metadata": {},
   "outputs": [],
   "source": [
    "nfl16_a['id'] = nfl16_a['schedule_season'].astype(str) + nfl16_a['team'] + nfl16_a['schedule_week']"
   ]
  },
  {
   "cell_type": "code",
   "execution_count": 363,
   "metadata": {},
   "outputs": [],
   "source": [
    "nfl16_a.drop(columns='team_home', inplace=True)"
   ]
  },
  {
   "cell_type": "code",
   "execution_count": 364,
   "metadata": {},
   "outputs": [],
   "source": [
    "nfl16_a['margin'] = nfl16_a['score'] - nfl16_a['opponent_score']"
   ]
  },
  {
   "cell_type": "code",
   "execution_count": 367,
   "metadata": {},
   "outputs": [
    {
     "data": {
      "text/plain": [
       "(256, 8)"
      ]
     },
     "execution_count": 367,
     "metadata": {},
     "output_type": "execute_result"
    }
   ],
   "source": [
    "nfl16_a.shape"
   ]
  },
  {
   "cell_type": "code",
   "execution_count": 330,
   "metadata": {},
   "outputs": [
    {
     "data": {
      "text/html": [
       "<div>\n",
       "<style scoped>\n",
       "    .dataframe tbody tr th:only-of-type {\n",
       "        vertical-align: middle;\n",
       "    }\n",
       "\n",
       "    .dataframe tbody tr th {\n",
       "        vertical-align: top;\n",
       "    }\n",
       "\n",
       "    .dataframe thead th {\n",
       "        text-align: right;\n",
       "    }\n",
       "</style>\n",
       "<table border=\"1\" class=\"dataframe\">\n",
       "  <thead>\n",
       "    <tr style=\"text-align: right;\">\n",
       "      <th></th>\n",
       "      <th>schedule_season</th>\n",
       "      <th>schedule_week</th>\n",
       "      <th>opponent_score</th>\n",
       "      <th>score</th>\n",
       "      <th>team</th>\n",
       "      <th>margin</th>\n",
       "      <th>home_team</th>\n",
       "    </tr>\n",
       "    <tr>\n",
       "      <th>schedule_date</th>\n",
       "      <th></th>\n",
       "      <th></th>\n",
       "      <th></th>\n",
       "      <th></th>\n",
       "      <th></th>\n",
       "      <th></th>\n",
       "      <th></th>\n",
       "    </tr>\n",
       "  </thead>\n",
       "  <tbody>\n",
       "    <tr>\n",
       "      <th>2016-09-08</th>\n",
       "      <td>2016</td>\n",
       "      <td>1</td>\n",
       "      <td>21.0</td>\n",
       "      <td>20.0</td>\n",
       "      <td>CAR</td>\n",
       "      <td>-1.0</td>\n",
       "      <td>DEN</td>\n",
       "    </tr>\n",
       "    <tr>\n",
       "      <th>2016-09-11</th>\n",
       "      <td>2016</td>\n",
       "      <td>1</td>\n",
       "      <td>21.0</td>\n",
       "      <td>23.0</td>\n",
       "      <td>NE</td>\n",
       "      <td>2.0</td>\n",
       "      <td>ARI</td>\n",
       "    </tr>\n",
       "    <tr>\n",
       "      <th>2016-09-11</th>\n",
       "      <td>2016</td>\n",
       "      <td>1</td>\n",
       "      <td>24.0</td>\n",
       "      <td>31.0</td>\n",
       "      <td>TB</td>\n",
       "      <td>7.0</td>\n",
       "      <td>ATL</td>\n",
       "    </tr>\n",
       "    <tr>\n",
       "      <th>2016-09-11</th>\n",
       "      <td>2016</td>\n",
       "      <td>1</td>\n",
       "      <td>13.0</td>\n",
       "      <td>7.0</td>\n",
       "      <td>BUF</td>\n",
       "      <td>-6.0</td>\n",
       "      <td>BAL</td>\n",
       "    </tr>\n",
       "    <tr>\n",
       "      <th>2016-09-11</th>\n",
       "      <td>2016</td>\n",
       "      <td>1</td>\n",
       "      <td>19.0</td>\n",
       "      <td>20.0</td>\n",
       "      <td>NYG</td>\n",
       "      <td>1.0</td>\n",
       "      <td>DAL</td>\n",
       "    </tr>\n",
       "  </tbody>\n",
       "</table>\n",
       "</div>"
      ],
      "text/plain": [
       "               schedule_season schedule_week  opponent_score  score team  \\\n",
       "schedule_date                                                              \n",
       "2016-09-08                2016             1            21.0   20.0  CAR   \n",
       "2016-09-11                2016             1            21.0   23.0   NE   \n",
       "2016-09-11                2016             1            24.0   31.0   TB   \n",
       "2016-09-11                2016             1            13.0    7.0  BUF   \n",
       "2016-09-11                2016             1            19.0   20.0  NYG   \n",
       "\n",
       "               margin home_team  \n",
       "schedule_date                    \n",
       "2016-09-08       -1.0       DEN  \n",
       "2016-09-11        2.0       ARI  \n",
       "2016-09-11        7.0       ATL  \n",
       "2016-09-11       -6.0       BAL  \n",
       "2016-09-11        1.0       DAL  "
      ]
     },
     "execution_count": 330,
     "metadata": {},
     "output_type": "execute_result"
    }
   ],
   "source": [
    "nfl16_a.head()"
   ]
  },
  {
   "cell_type": "code",
   "execution_count": 368,
   "metadata": {},
   "outputs": [],
   "source": [
    "nfl16_a = nfl16_a[['id','schedule_season', 'schedule_week', 'team', 'score', 'opponent_score', 'margin', 'home_team']]"
   ]
  },
  {
   "cell_type": "code",
   "execution_count": 370,
   "metadata": {},
   "outputs": [
    {
     "data": {
      "text/html": [
       "<div>\n",
       "<style scoped>\n",
       "    .dataframe tbody tr th:only-of-type {\n",
       "        vertical-align: middle;\n",
       "    }\n",
       "\n",
       "    .dataframe tbody tr th {\n",
       "        vertical-align: top;\n",
       "    }\n",
       "\n",
       "    .dataframe thead th {\n",
       "        text-align: right;\n",
       "    }\n",
       "</style>\n",
       "<table border=\"1\" class=\"dataframe\">\n",
       "  <thead>\n",
       "    <tr style=\"text-align: right;\">\n",
       "      <th></th>\n",
       "      <th>id</th>\n",
       "      <th>schedule_season</th>\n",
       "      <th>schedule_week</th>\n",
       "      <th>team</th>\n",
       "      <th>score</th>\n",
       "      <th>opponent_score</th>\n",
       "      <th>margin</th>\n",
       "      <th>home_team</th>\n",
       "    </tr>\n",
       "    <tr>\n",
       "      <th>schedule_date</th>\n",
       "      <th></th>\n",
       "      <th></th>\n",
       "      <th></th>\n",
       "      <th></th>\n",
       "      <th></th>\n",
       "      <th></th>\n",
       "      <th></th>\n",
       "      <th></th>\n",
       "    </tr>\n",
       "  </thead>\n",
       "  <tbody>\n",
       "    <tr>\n",
       "      <th>2016-09-08</th>\n",
       "      <td>2016CAR1</td>\n",
       "      <td>2016</td>\n",
       "      <td>1</td>\n",
       "      <td>CAR</td>\n",
       "      <td>20.0</td>\n",
       "      <td>21.0</td>\n",
       "      <td>-1.0</td>\n",
       "      <td>DEN</td>\n",
       "    </tr>\n",
       "    <tr>\n",
       "      <th>2016-09-11</th>\n",
       "      <td>2016NE1</td>\n",
       "      <td>2016</td>\n",
       "      <td>1</td>\n",
       "      <td>NE</td>\n",
       "      <td>23.0</td>\n",
       "      <td>21.0</td>\n",
       "      <td>2.0</td>\n",
       "      <td>ARI</td>\n",
       "    </tr>\n",
       "    <tr>\n",
       "      <th>2016-09-11</th>\n",
       "      <td>2016TB1</td>\n",
       "      <td>2016</td>\n",
       "      <td>1</td>\n",
       "      <td>TB</td>\n",
       "      <td>31.0</td>\n",
       "      <td>24.0</td>\n",
       "      <td>7.0</td>\n",
       "      <td>ATL</td>\n",
       "    </tr>\n",
       "    <tr>\n",
       "      <th>2016-09-11</th>\n",
       "      <td>2016BUF1</td>\n",
       "      <td>2016</td>\n",
       "      <td>1</td>\n",
       "      <td>BUF</td>\n",
       "      <td>7.0</td>\n",
       "      <td>13.0</td>\n",
       "      <td>-6.0</td>\n",
       "      <td>BAL</td>\n",
       "    </tr>\n",
       "    <tr>\n",
       "      <th>2016-09-11</th>\n",
       "      <td>2016NYG1</td>\n",
       "      <td>2016</td>\n",
       "      <td>1</td>\n",
       "      <td>NYG</td>\n",
       "      <td>20.0</td>\n",
       "      <td>19.0</td>\n",
       "      <td>1.0</td>\n",
       "      <td>DAL</td>\n",
       "    </tr>\n",
       "  </tbody>\n",
       "</table>\n",
       "</div>"
      ],
      "text/plain": [
       "                     id  schedule_season schedule_week team  score  \\\n",
       "schedule_date                                                        \n",
       "2016-09-08     2016CAR1             2016             1  CAR   20.0   \n",
       "2016-09-11      2016NE1             2016             1   NE   23.0   \n",
       "2016-09-11      2016TB1             2016             1   TB   31.0   \n",
       "2016-09-11     2016BUF1             2016             1  BUF    7.0   \n",
       "2016-09-11     2016NYG1             2016             1  NYG   20.0   \n",
       "\n",
       "               opponent_score  margin home_team  \n",
       "schedule_date                                    \n",
       "2016-09-08               21.0    -1.0       DEN  \n",
       "2016-09-11               21.0     2.0       ARI  \n",
       "2016-09-11               24.0     7.0       ATL  \n",
       "2016-09-11               13.0    -6.0       BAL  \n",
       "2016-09-11               19.0     1.0       DAL  "
      ]
     },
     "execution_count": 370,
     "metadata": {},
     "output_type": "execute_result"
    }
   ],
   "source": [
    "#nfl16_a[nfl16_a['schedule_week']=='6']\n",
    "#nfl16_a.shape #(256,8)\n",
    "nfl16_a.head()"
   ]
  },
  {
   "cell_type": "code",
   "execution_count": 373,
   "metadata": {},
   "outputs": [],
   "source": [
    "nfl16_ha = pd.concat([nfl16_h, nfl16_a], axis=0, join ='inner')"
   ]
  },
  {
   "cell_type": "code",
   "execution_count": 387,
   "metadata": {},
   "outputs": [],
   "source": [
    "nfl16_ha.sort_values(by = ['schedule_date','team'],inplace =True)"
   ]
  },
  {
   "cell_type": "code",
   "execution_count": 388,
   "metadata": {},
   "outputs": [
    {
     "data": {
      "text/html": [
       "<div>\n",
       "<style scoped>\n",
       "    .dataframe tbody tr th:only-of-type {\n",
       "        vertical-align: middle;\n",
       "    }\n",
       "\n",
       "    .dataframe tbody tr th {\n",
       "        vertical-align: top;\n",
       "    }\n",
       "\n",
       "    .dataframe thead th {\n",
       "        text-align: right;\n",
       "    }\n",
       "</style>\n",
       "<table border=\"1\" class=\"dataframe\">\n",
       "  <thead>\n",
       "    <tr style=\"text-align: right;\">\n",
       "      <th></th>\n",
       "      <th>schedule_date</th>\n",
       "      <th>schedule_season</th>\n",
       "      <th>schedule_week</th>\n",
       "      <th>team</th>\n",
       "      <th>score</th>\n",
       "      <th>opponent_score</th>\n",
       "      <th>margin</th>\n",
       "      <th>home_team</th>\n",
       "      <th>id</th>\n",
       "    </tr>\n",
       "  </thead>\n",
       "  <tbody>\n",
       "    <tr>\n",
       "      <th>507</th>\n",
       "      <td>2017-01-01</td>\n",
       "      <td>2016</td>\n",
       "      <td>17</td>\n",
       "      <td>SEA</td>\n",
       "      <td>25.0</td>\n",
       "      <td>23.0</td>\n",
       "      <td>2.0</td>\n",
       "      <td>SF</td>\n",
       "      <td>2016SEA17</td>\n",
       "    </tr>\n",
       "    <tr>\n",
       "      <th>508</th>\n",
       "      <td>2017-01-01</td>\n",
       "      <td>2016</td>\n",
       "      <td>17</td>\n",
       "      <td>SF</td>\n",
       "      <td>23.0</td>\n",
       "      <td>25.0</td>\n",
       "      <td>-2.0</td>\n",
       "      <td>SF</td>\n",
       "      <td>2016SF17</td>\n",
       "    </tr>\n",
       "    <tr>\n",
       "      <th>509</th>\n",
       "      <td>2017-01-01</td>\n",
       "      <td>2016</td>\n",
       "      <td>17</td>\n",
       "      <td>TB</td>\n",
       "      <td>17.0</td>\n",
       "      <td>16.0</td>\n",
       "      <td>1.0</td>\n",
       "      <td>TB</td>\n",
       "      <td>2016TB17</td>\n",
       "    </tr>\n",
       "    <tr>\n",
       "      <th>510</th>\n",
       "      <td>2017-01-01</td>\n",
       "      <td>2016</td>\n",
       "      <td>17</td>\n",
       "      <td>TEN</td>\n",
       "      <td>24.0</td>\n",
       "      <td>17.0</td>\n",
       "      <td>7.0</td>\n",
       "      <td>TEN</td>\n",
       "      <td>2016TEN17</td>\n",
       "    </tr>\n",
       "    <tr>\n",
       "      <th>511</th>\n",
       "      <td>2017-01-01</td>\n",
       "      <td>2016</td>\n",
       "      <td>17</td>\n",
       "      <td>WAS</td>\n",
       "      <td>10.0</td>\n",
       "      <td>19.0</td>\n",
       "      <td>-9.0</td>\n",
       "      <td>WAS</td>\n",
       "      <td>2016WAS17</td>\n",
       "    </tr>\n",
       "  </tbody>\n",
       "</table>\n",
       "</div>"
      ],
      "text/plain": [
       "    schedule_date  schedule_season schedule_week team  score  opponent_score  \\\n",
       "507    2017-01-01             2016            17  SEA   25.0            23.0   \n",
       "508    2017-01-01             2016            17   SF   23.0            25.0   \n",
       "509    2017-01-01             2016            17   TB   17.0            16.0   \n",
       "510    2017-01-01             2016            17  TEN   24.0            17.0   \n",
       "511    2017-01-01             2016            17  WAS   10.0            19.0   \n",
       "\n",
       "     margin home_team         id  \n",
       "507     2.0        SF  2016SEA17  \n",
       "508    -2.0        SF   2016SF17  \n",
       "509     1.0        TB   2016TB17  \n",
       "510     7.0       TEN  2016TEN17  \n",
       "511    -9.0       WAS  2016WAS17  "
      ]
     },
     "execution_count": 388,
     "metadata": {},
     "output_type": "execute_result"
    }
   ],
   "source": [
    "nfl16_ha = nfl16_ha.reset_index()\n",
    "nfl16_ha.tail()"
   ]
  },
  {
   "cell_type": "code",
   "execution_count": 385,
   "metadata": {},
   "outputs": [
    {
     "data": {
      "text/plain": [
       "(512, 8)"
      ]
     },
     "execution_count": 385,
     "metadata": {},
     "output_type": "execute_result"
    }
   ],
   "source": [
    "nfl16_ha.shape"
   ]
  },
  {
   "cell_type": "markdown",
   "metadata": {},
   "source": [
    "### changing to week 6 here"
   ]
  },
  {
   "cell_type": "code",
   "execution_count": 380,
   "metadata": {},
   "outputs": [
    {
     "data": {
      "text/plain": [
       "schedule_season      1\n",
       "schedule_week       17\n",
       "team                32\n",
       "score               46\n",
       "opponent_score      46\n",
       "margin              67\n",
       "home_team           32\n",
       "id                 512\n",
       "dtype: int64"
      ]
     },
     "execution_count": 380,
     "metadata": {},
     "output_type": "execute_result"
    }
   ],
   "source": [
    "nfl16_ha.nunique()"
   ]
  },
  {
   "cell_type": "code",
   "execution_count": null,
   "metadata": {},
   "outputs": [],
   "source": [
    "nfl16_ha.shape"
   ]
  },
  {
   "cell_type": "code",
   "execution_count": null,
   "metadata": {},
   "outputs": [],
   "source": [
    "#nfl16_ha =pd.DataFrame(nfl16_ha.loc[:'2016-10-18'])"
   ]
  },
  {
   "cell_type": "code",
   "execution_count": null,
   "metadata": {},
   "outputs": [],
   "source": []
  },
  {
   "cell_type": "code",
   "execution_count": null,
   "metadata": {},
   "outputs": [],
   "source": []
  },
  {
   "cell_type": "code",
   "execution_count": null,
   "metadata": {},
   "outputs": [],
   "source": [
    "nfl16_ha.tail(2)"
   ]
  },
  {
   "cell_type": "code",
   "execution_count": null,
   "metadata": {},
   "outputs": [],
   "source": [
    "nfl16_ha.shape"
   ]
  },
  {
   "cell_type": "markdown",
   "metadata": {},
   "source": [
    "##### Brings in the yardage file"
   ]
  },
  {
   "cell_type": "code",
   "execution_count": 381,
   "metadata": {},
   "outputs": [],
   "source": [
    "nfl16_yards = pd.read_csv('./data/nfl16_yards.csv', index_col=0)"
   ]
  },
  {
   "cell_type": "code",
   "execution_count": 382,
   "metadata": {},
   "outputs": [
    {
     "data": {
      "text/html": [
       "<div>\n",
       "<style scoped>\n",
       "    .dataframe tbody tr th:only-of-type {\n",
       "        vertical-align: middle;\n",
       "    }\n",
       "\n",
       "    .dataframe tbody tr th {\n",
       "        vertical-align: top;\n",
       "    }\n",
       "\n",
       "    .dataframe thead th {\n",
       "        text-align: right;\n",
       "    }\n",
       "</style>\n",
       "<table border=\"1\" class=\"dataframe\">\n",
       "  <thead>\n",
       "    <tr style=\"text-align: right;\">\n",
       "      <th></th>\n",
       "      <th>game_number</th>\n",
       "      <th>team</th>\n",
       "      <th>passing_yards</th>\n",
       "      <th>rushing_yards</th>\n",
       "    </tr>\n",
       "  </thead>\n",
       "  <tbody>\n",
       "    <tr>\n",
       "      <th>0</th>\n",
       "      <td>1</td>\n",
       "      <td>ARI</td>\n",
       "      <td>271</td>\n",
       "      <td>92</td>\n",
       "    </tr>\n",
       "    <tr>\n",
       "      <th>1</th>\n",
       "      <td>1</td>\n",
       "      <td>ATL</td>\n",
       "      <td>334</td>\n",
       "      <td>52</td>\n",
       "    </tr>\n",
       "    <tr>\n",
       "      <th>2</th>\n",
       "      <td>1</td>\n",
       "      <td>BAL</td>\n",
       "      <td>258</td>\n",
       "      <td>83</td>\n",
       "    </tr>\n",
       "    <tr>\n",
       "      <th>3</th>\n",
       "      <td>1</td>\n",
       "      <td>BUF</td>\n",
       "      <td>111</td>\n",
       "      <td>65</td>\n",
       "    </tr>\n",
       "    <tr>\n",
       "      <th>4</th>\n",
       "      <td>1</td>\n",
       "      <td>CAR</td>\n",
       "      <td>194</td>\n",
       "      <td>157</td>\n",
       "    </tr>\n",
       "  </tbody>\n",
       "</table>\n",
       "</div>"
      ],
      "text/plain": [
       "   game_number team  passing_yards  rushing_yards\n",
       "0            1  ARI            271             92\n",
       "1            1  ATL            334             52\n",
       "2            1  BAL            258             83\n",
       "3            1  BUF            111             65\n",
       "4            1  CAR            194            157"
      ]
     },
     "execution_count": 382,
     "metadata": {},
     "output_type": "execute_result"
    }
   ],
   "source": [
    "nfl16_yards.head()"
   ]
  },
  {
   "cell_type": "code",
   "execution_count": 383,
   "metadata": {},
   "outputs": [],
   "source": [
    "nfl16_yards['id'] = '2016'+ nfl16_yards['team'] + nfl16_yards['game_number'].astype(str)"
   ]
  },
  {
   "cell_type": "code",
   "execution_count": 384,
   "metadata": {},
   "outputs": [
    {
     "data": {
      "text/plain": [
       "(512, 5)"
      ]
     },
     "execution_count": 384,
     "metadata": {},
     "output_type": "execute_result"
    }
   ],
   "source": [
    "nfl16_yards.shape"
   ]
  },
  {
   "cell_type": "code",
   "execution_count": null,
   "metadata": {},
   "outputs": [],
   "source": [
    "nfl16w6_yards = pd.DataFrame(nfl16_yards[nfl16_yards['game_number']<=6])\n",
    "nfl16w6_yards.tail()"
   ]
  },
  {
   "cell_type": "code",
   "execution_count": null,
   "metadata": {},
   "outputs": [],
   "source": [
    "nfl16w6_yards.sort_values(by = ['game_number','team'],inplace =True)"
   ]
  },
  {
   "cell_type": "code",
   "execution_count": null,
   "metadata": {},
   "outputs": [],
   "source": [
    "nfl16w6_yards.head()"
   ]
  },
  {
   "cell_type": "code",
   "execution_count": null,
   "metadata": {},
   "outputs": [],
   "source": []
  },
  {
   "cell_type": "code",
   "execution_count": null,
   "metadata": {},
   "outputs": [],
   "source": [
    "yards16_f6 = nfl16w6_yards.groupby('team').sum().reset_index()"
   ]
  },
  {
   "cell_type": "code",
   "execution_count": null,
   "metadata": {},
   "outputs": [],
   "source": [
    "yards16_f6.shape"
   ]
  },
  {
   "cell_type": "code",
   "execution_count": null,
   "metadata": {},
   "outputs": [],
   "source": []
  },
  {
   "cell_type": "code",
   "execution_count": null,
   "metadata": {},
   "outputs": [],
   "source": [
    "pf_pa = pd.DataFrame(nfl16_ha.groupby('team').mean()[['score','opponent_score','margin']])\n",
    "#pfa = pd.DataFrame(nfl16_ha.groupby('team').sum()[['score_away']])\n",
    "#pfh.reset_index(inplace = True)\n",
    "pf_pa.reset_index(inplace = True)\n"
   ]
  },
  {
   "cell_type": "code",
   "execution_count": null,
   "metadata": {},
   "outputs": [],
   "source": [
    "nfl16_agg = pd.concat([pf_pa, yards16_f6], axis=1, join ='inner')"
   ]
  },
  {
   "cell_type": "code",
   "execution_count": null,
   "metadata": {},
   "outputs": [],
   "source": [
    "nfl16_agg.shape"
   ]
  },
  {
   "cell_type": "code",
   "execution_count": null,
   "metadata": {},
   "outputs": [],
   "source": [
    "nfl16_agg1 = pd.concat([nfl16_agg, nfl_target['score']], axis=1, join ='inner')"
   ]
  },
  {
   "cell_type": "code",
   "execution_count": null,
   "metadata": {},
   "outputs": [],
   "source": [
    "nfl16_agg1.count()"
   ]
  },
  {
   "cell_type": "code",
   "execution_count": null,
   "metadata": {},
   "outputs": [],
   "source": [
    "nfl_target = pd.DataFrame(nfl16_ha[nfl16_ha['schedule_week']=='6'].sort_values(by='team')).reset_index()"
   ]
  },
  {
   "cell_type": "code",
   "execution_count": null,
   "metadata": {},
   "outputs": [],
   "source": [
    "nfl_target.shape"
   ]
  },
  {
   "cell_type": "code",
   "execution_count": null,
   "metadata": {},
   "outputs": [],
   "source": [
    "nfl16_agg1.tail()"
   ]
  },
  {
   "cell_type": "code",
   "execution_count": null,
   "metadata": {},
   "outputs": [],
   "source": [
    "# nfl16_agg1.rename(columns= {'score':'target'})\n",
    "# nfl16_agg1"
   ]
  },
  {
   "cell_type": "code",
   "execution_count": null,
   "metadata": {},
   "outputs": [],
   "source": []
  }
 ],
 "metadata": {
  "kernelspec": {
   "display_name": "Python 3",
   "language": "python",
   "name": "python3"
  },
  "language_info": {
   "codemirror_mode": {
    "name": "ipython",
    "version": 3
   },
   "file_extension": ".py",
   "mimetype": "text/x-python",
   "name": "python",
   "nbconvert_exporter": "python",
   "pygments_lexer": "ipython3",
   "version": "3.7.7"
  }
 },
 "nbformat": 4,
 "nbformat_minor": 4
}
