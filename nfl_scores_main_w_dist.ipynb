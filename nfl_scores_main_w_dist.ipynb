{
 "cells": [
  {
   "cell_type": "code",
   "execution_count": 5,
   "metadata": {},
   "outputs": [],
   "source": [
    "import pandas as pd\n",
    "import numpy as np\n",
    "import matplotlib.pyplot as plt\n",
    "import seaborn as sns"
   ]
  },
  {
   "cell_type": "markdown",
   "metadata": {},
   "source": [
    "#### Notebook 1 for preprocessing of data. "
   ]
  },
  {
   "cell_type": "code",
   "execution_count": 6,
   "metadata": {},
   "outputs": [],
   "source": [
    "nfl = pd.read_csv('./data/spreadspoke_110820.csv', index_col = \"schedule_date\", parse_dates = True)"
   ]
  },
  {
   "cell_type": "code",
   "execution_count": 7,
   "metadata": {},
   "outputs": [],
   "source": [
    "nfl = pd.DataFrame(nfl.loc['2010-09-01':'2020-02-10'])"
   ]
  },
  {
   "cell_type": "markdown",
   "metadata": {},
   "source": [
    "#### Data starts in 2010 Season and ends in 2020 but will have to cut off in 2016 for continuity with both data sets."
   ]
  },
  {
   "cell_type": "code",
   "execution_count": 8,
   "metadata": {},
   "outputs": [
    {
     "name": "stdout",
     "output_type": "stream",
     "text": [
      "<class 'pandas.core.frame.DataFrame'>\n",
      "DatetimeIndex: 2670 entries, 2010-09-09 to 2020-02-02\n",
      "Data columns (total 16 columns):\n",
      " #   Column               Non-Null Count  Dtype  \n",
      "---  ------               --------------  -----  \n",
      " 0   schedule_season      2670 non-null   int64  \n",
      " 1   schedule_week        2670 non-null   object \n",
      " 2   schedule_playoff     2670 non-null   bool   \n",
      " 3   team_home            2670 non-null   object \n",
      " 4   score_home           2670 non-null   float64\n",
      " 5   score_away           2670 non-null   float64\n",
      " 6   team_away            2670 non-null   object \n",
      " 7   team_favorite_id     2670 non-null   object \n",
      " 8   spread_favorite      2670 non-null   float64\n",
      " 9   over_under_line      2670 non-null   float64\n",
      " 10  stadium              2670 non-null   object \n",
      " 11  stadium_neutral      2670 non-null   bool   \n",
      " 12  weather_temperature  2433 non-null   float64\n",
      " 13  weather_wind_mph     2433 non-null   float64\n",
      " 14  weather_humidity     671 non-null    object \n",
      " 15  weather_detail       854 non-null    object \n",
      "dtypes: bool(2), float64(6), int64(1), object(7)\n",
      "memory usage: 318.1+ KB\n"
     ]
    }
   ],
   "source": [
    "nfl['over_under_line'] = nfl['over_under_line'].astype(float)\n",
    "nfl.info()"
   ]
  },
  {
   "cell_type": "code",
   "execution_count": 9,
   "metadata": {},
   "outputs": [],
   "source": [
    "nfl = nfl.iloc[:, :10]"
   ]
  },
  {
   "cell_type": "code",
   "execution_count": 10,
   "metadata": {},
   "outputs": [],
   "source": [
    "nfl.drop(columns = 'schedule_playoff',inplace=True)"
   ]
  },
  {
   "cell_type": "code",
   "execution_count": 11,
   "metadata": {},
   "outputs": [],
   "source": [
    "nfl['margin'] = nfl['score_home'] - nfl['score_away']"
   ]
  },
  {
   "cell_type": "code",
   "execution_count": 12,
   "metadata": {},
   "outputs": [],
   "source": [
    "#mapping team abbreviations\n",
    "def desc_to_id(id):\n",
    "\n",
    "    id_dict = {\n",
    "        'Atlanta Falcons': 'ATL',\n",
    "        'Chicago Bears': 'CHI',\n",
    "        'Cleveland Browns': 'CLE',\n",
    "        'Green Bay Packers': \"GB\",\n",
    "        'Indianapolis Colts':'IND',\n",
    "        'Jacksonville Jaguars':'JAX',\n",
    "        'New Orleans Saints': 'NO',\n",
    "        'New York Jets':'NYJ',\n",
    "        'Philadelphia Eagles':'PHI',\n",
    "        'Seattle Seahawks':'SEA',\n",
    "        'St. Louis Rams': 'LAR',\n",
    "        'Tampa Bay Buccaneers':'TB',\n",
    "        'Tennessee Titans':'TEN',\n",
    "        'Washington Redskins':'WAS',\n",
    "        'Denver Broncos':'DEN',\n",
    "        'Baltimore Ravens':'BAL',\n",
    "        'Buffalo Bills':'BUF',\n",
    "        'Carolina Panthers':'CAR',\n",
    "        'Cincinnati Bengals': 'CIN',\n",
    "        'Detroit Lions': 'DET',\n",
    "        'Kansas City Chiefs': 'KC',\n",
    "        'Miami Dolphins': 'MIA',\n",
    "        'Minnesota Vikings':'MIN',\n",
    "        'New England Patriots':'NE',\n",
    "        'New York Giants':'NYG',\n",
    "        'San Francisco 49ers':'SF',\n",
    "        'Dallas Cowboys': 'DAL',\n",
    "        'Oakland Raiders': 'OAK',\n",
    "        'Pittsburgh Steelers':'PIT',\n",
    "        'San Diego Chargers':'LAC',\n",
    "        'Arizona Cardinals': 'ARI',\n",
    "        'Houston Texans':'HOU',\n",
    "        'Los Angeles Rams':'LAR',\n",
    "        'Los Angeles Chargers':'LAC'\n",
    "    }\n",
    "    \n",
    "    try:\n",
    "        return id_dict[id]\n",
    "    except:\n",
    "        return 'CHECK!'"
   ]
  },
  {
   "cell_type": "code",
   "execution_count": 14,
   "metadata": {},
   "outputs": [],
   "source": [
    "nfl['team_away'] = nfl['team_away'].apply(desc_to_id)\n",
    "nfl['team_home'] = nfl['team_home'].apply(desc_to_id)"
   ]
  },
  {
   "cell_type": "code",
   "execution_count": 15,
   "metadata": {},
   "outputs": [],
   "source": [
    "nfl['home_team']= nfl['team_home']"
   ]
  },
  {
   "cell_type": "code",
   "execution_count": 16,
   "metadata": {},
   "outputs": [
    {
     "data": {
      "text/plain": [
       "(2670, 11)"
      ]
     },
     "execution_count": 16,
     "metadata": {},
     "output_type": "execute_result"
    }
   ],
   "source": [
    "nfl.shape"
   ]
  },
  {
   "cell_type": "markdown",
   "metadata": {},
   "source": [
    "#### getting rid of playoff games"
   ]
  },
  {
   "cell_type": "code",
   "execution_count": 17,
   "metadata": {},
   "outputs": [
    {
     "data": {
      "text/plain": [
       "array(['1', '2', '3', '4', '5', '6', '7', '8', '9', '10', '11', '12',\n",
       "       '13', '14', '15', '16', '17', 'Wildcard', 'Division', 'Conference',\n",
       "       'Superbowl', 'WildCard', 'SuperBowl'], dtype=object)"
      ]
     },
     "execution_count": 17,
     "metadata": {},
     "output_type": "execute_result"
    }
   ],
   "source": [
    "nfl['schedule_week'].unique()"
   ]
  },
  {
   "cell_type": "code",
   "execution_count": 18,
   "metadata": {},
   "outputs": [],
   "source": [
    "nfl = nfl[nfl.schedule_week != 'Wildcard']\n",
    "nfl = nfl[nfl.schedule_week != 'WildCard']\n",
    "nfl = nfl[nfl.schedule_week != 'Division']\n",
    "nfl = nfl[nfl.schedule_week != 'Conference']\n",
    "nfl = nfl[nfl.schedule_week != 'Superbowl']\n",
    "nfl = nfl[nfl.schedule_week != 'SuperBowl']"
   ]
  },
  {
   "cell_type": "code",
   "execution_count": 19,
   "metadata": {},
   "outputs": [
    {
     "data": {
      "text/plain": [
       "(2560, 11)"
      ]
     },
     "execution_count": 19,
     "metadata": {},
     "output_type": "execute_result"
    }
   ],
   "source": [
    "nfl.shape"
   ]
  },
  {
   "cell_type": "code",
   "execution_count": 20,
   "metadata": {},
   "outputs": [
    {
     "data": {
      "text/plain": [
       "array(['1', '2', '3', '4', '5', '6', '7', '8', '9', '10', '11', '12',\n",
       "       '13', '14', '15', '16', '17'], dtype=object)"
      ]
     },
     "execution_count": 20,
     "metadata": {},
     "output_type": "execute_result"
    }
   ],
   "source": [
    "nfl['schedule_week'].unique()"
   ]
  },
  {
   "cell_type": "code",
   "execution_count": 21,
   "metadata": {},
   "outputs": [
    {
     "data": {
      "text/html": [
       "<div>\n",
       "<style scoped>\n",
       "    .dataframe tbody tr th:only-of-type {\n",
       "        vertical-align: middle;\n",
       "    }\n",
       "\n",
       "    .dataframe tbody tr th {\n",
       "        vertical-align: top;\n",
       "    }\n",
       "\n",
       "    .dataframe thead th {\n",
       "        text-align: right;\n",
       "    }\n",
       "</style>\n",
       "<table border=\"1\" class=\"dataframe\">\n",
       "  <thead>\n",
       "    <tr style=\"text-align: right;\">\n",
       "      <th></th>\n",
       "      <th>schedule_season</th>\n",
       "      <th>schedule_week</th>\n",
       "      <th>team_home</th>\n",
       "      <th>score_home</th>\n",
       "      <th>score_away</th>\n",
       "      <th>team_away</th>\n",
       "      <th>team_favorite_id</th>\n",
       "      <th>spread_favorite</th>\n",
       "      <th>over_under_line</th>\n",
       "      <th>margin</th>\n",
       "      <th>home_team</th>\n",
       "    </tr>\n",
       "    <tr>\n",
       "      <th>schedule_date</th>\n",
       "      <th></th>\n",
       "      <th></th>\n",
       "      <th></th>\n",
       "      <th></th>\n",
       "      <th></th>\n",
       "      <th></th>\n",
       "      <th></th>\n",
       "      <th></th>\n",
       "      <th></th>\n",
       "      <th></th>\n",
       "      <th></th>\n",
       "    </tr>\n",
       "  </thead>\n",
       "  <tbody>\n",
       "    <tr>\n",
       "      <th>2010-09-09</th>\n",
       "      <td>2010</td>\n",
       "      <td>1</td>\n",
       "      <td>NO</td>\n",
       "      <td>14.0</td>\n",
       "      <td>9.0</td>\n",
       "      <td>MIN</td>\n",
       "      <td>NO</td>\n",
       "      <td>-5.0</td>\n",
       "      <td>49.5</td>\n",
       "      <td>5.0</td>\n",
       "      <td>NO</td>\n",
       "    </tr>\n",
       "    <tr>\n",
       "      <th>2010-09-12</th>\n",
       "      <td>2010</td>\n",
       "      <td>1</td>\n",
       "      <td>BUF</td>\n",
       "      <td>10.0</td>\n",
       "      <td>15.0</td>\n",
       "      <td>MIA</td>\n",
       "      <td>MIA</td>\n",
       "      <td>-3.0</td>\n",
       "      <td>39.0</td>\n",
       "      <td>-5.0</td>\n",
       "      <td>BUF</td>\n",
       "    </tr>\n",
       "    <tr>\n",
       "      <th>2010-09-12</th>\n",
       "      <td>2010</td>\n",
       "      <td>1</td>\n",
       "      <td>CHI</td>\n",
       "      <td>19.0</td>\n",
       "      <td>14.0</td>\n",
       "      <td>DET</td>\n",
       "      <td>CHI</td>\n",
       "      <td>-6.5</td>\n",
       "      <td>45.0</td>\n",
       "      <td>5.0</td>\n",
       "      <td>CHI</td>\n",
       "    </tr>\n",
       "    <tr>\n",
       "      <th>2010-09-12</th>\n",
       "      <td>2010</td>\n",
       "      <td>1</td>\n",
       "      <td>HOU</td>\n",
       "      <td>34.0</td>\n",
       "      <td>24.0</td>\n",
       "      <td>IND</td>\n",
       "      <td>IND</td>\n",
       "      <td>-1.0</td>\n",
       "      <td>48.0</td>\n",
       "      <td>10.0</td>\n",
       "      <td>HOU</td>\n",
       "    </tr>\n",
       "    <tr>\n",
       "      <th>2010-09-12</th>\n",
       "      <td>2010</td>\n",
       "      <td>1</td>\n",
       "      <td>JAX</td>\n",
       "      <td>24.0</td>\n",
       "      <td>17.0</td>\n",
       "      <td>DEN</td>\n",
       "      <td>JAX</td>\n",
       "      <td>-3.0</td>\n",
       "      <td>41.5</td>\n",
       "      <td>7.0</td>\n",
       "      <td>JAX</td>\n",
       "    </tr>\n",
       "  </tbody>\n",
       "</table>\n",
       "</div>"
      ],
      "text/plain": [
       "               schedule_season schedule_week team_home  score_home  \\\n",
       "schedule_date                                                        \n",
       "2010-09-09                2010             1        NO        14.0   \n",
       "2010-09-12                2010             1       BUF        10.0   \n",
       "2010-09-12                2010             1       CHI        19.0   \n",
       "2010-09-12                2010             1       HOU        34.0   \n",
       "2010-09-12                2010             1       JAX        24.0   \n",
       "\n",
       "               score_away team_away team_favorite_id  spread_favorite  \\\n",
       "schedule_date                                                           \n",
       "2010-09-09            9.0       MIN               NO             -5.0   \n",
       "2010-09-12           15.0       MIA              MIA             -3.0   \n",
       "2010-09-12           14.0       DET              CHI             -6.5   \n",
       "2010-09-12           24.0       IND              IND             -1.0   \n",
       "2010-09-12           17.0       DEN              JAX             -3.0   \n",
       "\n",
       "               over_under_line  margin home_team  \n",
       "schedule_date                                     \n",
       "2010-09-09                49.5     5.0        NO  \n",
       "2010-09-12                39.0    -5.0       BUF  \n",
       "2010-09-12                45.0     5.0       CHI  \n",
       "2010-09-12                48.0    10.0       HOU  \n",
       "2010-09-12                41.5     7.0       JAX  "
      ]
     },
     "execution_count": 21,
     "metadata": {},
     "output_type": "execute_result"
    }
   ],
   "source": [
    "nfl.head()"
   ]
  },
  {
   "cell_type": "markdown",
   "metadata": {},
   "source": [
    "- setting up home columns for merge"
   ]
  },
  {
   "cell_type": "code",
   "execution_count": 22,
   "metadata": {},
   "outputs": [],
   "source": [
    "# h is for home designation\n",
    "nfl_h = nfl.rename(columns= {\n",
    "    'team_home': 'team',\n",
    "    'score_home': 'score',\n",
    "    'score_away': 'opponent_score',\n",
    "    'team_away' : 'opponent_team',\n",
    "})"
   ]
  },
  {
   "cell_type": "code",
   "execution_count": 23,
   "metadata": {},
   "outputs": [],
   "source": [
    "nfl_h.reset_index(inplace=True)"
   ]
  },
  {
   "cell_type": "code",
   "execution_count": 24,
   "metadata": {},
   "outputs": [
    {
     "data": {
      "text/html": [
       "<div>\n",
       "<style scoped>\n",
       "    .dataframe tbody tr th:only-of-type {\n",
       "        vertical-align: middle;\n",
       "    }\n",
       "\n",
       "    .dataframe tbody tr th {\n",
       "        vertical-align: top;\n",
       "    }\n",
       "\n",
       "    .dataframe thead th {\n",
       "        text-align: right;\n",
       "    }\n",
       "</style>\n",
       "<table border=\"1\" class=\"dataframe\">\n",
       "  <thead>\n",
       "    <tr style=\"text-align: right;\">\n",
       "      <th></th>\n",
       "      <th>schedule_date</th>\n",
       "      <th>schedule_season</th>\n",
       "      <th>schedule_week</th>\n",
       "      <th>team</th>\n",
       "      <th>score</th>\n",
       "      <th>opponent_score</th>\n",
       "      <th>opponent_team</th>\n",
       "      <th>team_favorite_id</th>\n",
       "      <th>spread_favorite</th>\n",
       "      <th>over_under_line</th>\n",
       "      <th>margin</th>\n",
       "      <th>home_team</th>\n",
       "    </tr>\n",
       "  </thead>\n",
       "  <tbody>\n",
       "    <tr>\n",
       "      <th>0</th>\n",
       "      <td>2010-09-09</td>\n",
       "      <td>2010</td>\n",
       "      <td>1</td>\n",
       "      <td>NO</td>\n",
       "      <td>14.0</td>\n",
       "      <td>9.0</td>\n",
       "      <td>MIN</td>\n",
       "      <td>NO</td>\n",
       "      <td>-5.0</td>\n",
       "      <td>49.5</td>\n",
       "      <td>5.0</td>\n",
       "      <td>NO</td>\n",
       "    </tr>\n",
       "    <tr>\n",
       "      <th>1</th>\n",
       "      <td>2010-09-12</td>\n",
       "      <td>2010</td>\n",
       "      <td>1</td>\n",
       "      <td>BUF</td>\n",
       "      <td>10.0</td>\n",
       "      <td>15.0</td>\n",
       "      <td>MIA</td>\n",
       "      <td>MIA</td>\n",
       "      <td>-3.0</td>\n",
       "      <td>39.0</td>\n",
       "      <td>-5.0</td>\n",
       "      <td>BUF</td>\n",
       "    </tr>\n",
       "    <tr>\n",
       "      <th>2</th>\n",
       "      <td>2010-09-12</td>\n",
       "      <td>2010</td>\n",
       "      <td>1</td>\n",
       "      <td>CHI</td>\n",
       "      <td>19.0</td>\n",
       "      <td>14.0</td>\n",
       "      <td>DET</td>\n",
       "      <td>CHI</td>\n",
       "      <td>-6.5</td>\n",
       "      <td>45.0</td>\n",
       "      <td>5.0</td>\n",
       "      <td>CHI</td>\n",
       "    </tr>\n",
       "    <tr>\n",
       "      <th>3</th>\n",
       "      <td>2010-09-12</td>\n",
       "      <td>2010</td>\n",
       "      <td>1</td>\n",
       "      <td>HOU</td>\n",
       "      <td>34.0</td>\n",
       "      <td>24.0</td>\n",
       "      <td>IND</td>\n",
       "      <td>IND</td>\n",
       "      <td>-1.0</td>\n",
       "      <td>48.0</td>\n",
       "      <td>10.0</td>\n",
       "      <td>HOU</td>\n",
       "    </tr>\n",
       "    <tr>\n",
       "      <th>4</th>\n",
       "      <td>2010-09-12</td>\n",
       "      <td>2010</td>\n",
       "      <td>1</td>\n",
       "      <td>JAX</td>\n",
       "      <td>24.0</td>\n",
       "      <td>17.0</td>\n",
       "      <td>DEN</td>\n",
       "      <td>JAX</td>\n",
       "      <td>-3.0</td>\n",
       "      <td>41.5</td>\n",
       "      <td>7.0</td>\n",
       "      <td>JAX</td>\n",
       "    </tr>\n",
       "  </tbody>\n",
       "</table>\n",
       "</div>"
      ],
      "text/plain": [
       "  schedule_date  schedule_season schedule_week team  score  opponent_score  \\\n",
       "0    2010-09-09             2010             1   NO   14.0             9.0   \n",
       "1    2010-09-12             2010             1  BUF   10.0            15.0   \n",
       "2    2010-09-12             2010             1  CHI   19.0            14.0   \n",
       "3    2010-09-12             2010             1  HOU   34.0            24.0   \n",
       "4    2010-09-12             2010             1  JAX   24.0            17.0   \n",
       "\n",
       "  opponent_team team_favorite_id  spread_favorite  over_under_line  margin  \\\n",
       "0           MIN               NO             -5.0             49.5     5.0   \n",
       "1           MIA              MIA             -3.0             39.0    -5.0   \n",
       "2           DET              CHI             -6.5             45.0     5.0   \n",
       "3           IND              IND             -1.0             48.0    10.0   \n",
       "4           DEN              JAX             -3.0             41.5     7.0   \n",
       "\n",
       "  home_team  \n",
       "0        NO  \n",
       "1       BUF  \n",
       "2       CHI  \n",
       "3       HOU  \n",
       "4       JAX  "
      ]
     },
     "execution_count": 24,
     "metadata": {},
     "output_type": "execute_result"
    }
   ],
   "source": [
    "nfl_h.head()"
   ]
  },
  {
   "cell_type": "code",
   "execution_count": 25,
   "metadata": {},
   "outputs": [],
   "source": [
    "nfl_h['id'] = nfl_h['team'] + nfl_h['schedule_date'].astype(str) #+ nfl_h['team_away']"
   ]
  },
  {
   "cell_type": "code",
   "execution_count": 26,
   "metadata": {},
   "outputs": [
    {
     "data": {
      "text/html": [
       "<div>\n",
       "<style scoped>\n",
       "    .dataframe tbody tr th:only-of-type {\n",
       "        vertical-align: middle;\n",
       "    }\n",
       "\n",
       "    .dataframe tbody tr th {\n",
       "        vertical-align: top;\n",
       "    }\n",
       "\n",
       "    .dataframe thead th {\n",
       "        text-align: right;\n",
       "    }\n",
       "</style>\n",
       "<table border=\"1\" class=\"dataframe\">\n",
       "  <thead>\n",
       "    <tr style=\"text-align: right;\">\n",
       "      <th></th>\n",
       "      <th>schedule_date</th>\n",
       "      <th>schedule_season</th>\n",
       "      <th>schedule_week</th>\n",
       "      <th>team</th>\n",
       "      <th>score</th>\n",
       "      <th>opponent_score</th>\n",
       "      <th>opponent_team</th>\n",
       "      <th>team_favorite_id</th>\n",
       "      <th>spread_favorite</th>\n",
       "      <th>over_under_line</th>\n",
       "      <th>margin</th>\n",
       "      <th>home_team</th>\n",
       "      <th>id</th>\n",
       "    </tr>\n",
       "  </thead>\n",
       "  <tbody>\n",
       "    <tr>\n",
       "      <th>0</th>\n",
       "      <td>2010-09-09</td>\n",
       "      <td>2010</td>\n",
       "      <td>1</td>\n",
       "      <td>NO</td>\n",
       "      <td>14.0</td>\n",
       "      <td>9.0</td>\n",
       "      <td>MIN</td>\n",
       "      <td>NO</td>\n",
       "      <td>-5.0</td>\n",
       "      <td>49.5</td>\n",
       "      <td>5.0</td>\n",
       "      <td>NO</td>\n",
       "      <td>NO2010-09-09</td>\n",
       "    </tr>\n",
       "  </tbody>\n",
       "</table>\n",
       "</div>"
      ],
      "text/plain": [
       "  schedule_date  schedule_season schedule_week team  score  opponent_score  \\\n",
       "0    2010-09-09             2010             1   NO   14.0             9.0   \n",
       "\n",
       "  opponent_team team_favorite_id  spread_favorite  over_under_line  margin  \\\n",
       "0           MIN               NO             -5.0             49.5     5.0   \n",
       "\n",
       "  home_team            id  \n",
       "0        NO  NO2010-09-09  "
      ]
     },
     "execution_count": 26,
     "metadata": {},
     "output_type": "execute_result"
    }
   ],
   "source": [
    "nfl_h.head(1)"
   ]
  },
  {
   "cell_type": "code",
   "execution_count": 27,
   "metadata": {},
   "outputs": [],
   "source": [
    "#nfl_h.drop(columns = 'team_away', inplace=True)"
   ]
  },
  {
   "cell_type": "code",
   "execution_count": 28,
   "metadata": {},
   "outputs": [
    {
     "data": {
      "text/plain": [
       "(2560, 13)"
      ]
     },
     "execution_count": 28,
     "metadata": {},
     "output_type": "execute_result"
    }
   ],
   "source": [
    "nfl_h.shape"
   ]
  },
  {
   "cell_type": "markdown",
   "metadata": {},
   "source": [
    "- setting up away columns for merge"
   ]
  },
  {
   "cell_type": "code",
   "execution_count": 29,
   "metadata": {},
   "outputs": [],
   "source": [
    "# a is for home designation\n",
    "nfl_a = nfl.rename(columns= {\n",
    "    'team_away': 'team',\n",
    "    'score_away': 'score',\n",
    "    'score_home': 'opponent_score',\n",
    "    'team_home' : 'opponent_team'\n",
    "})"
   ]
  },
  {
   "cell_type": "code",
   "execution_count": 30,
   "metadata": {},
   "outputs": [],
   "source": [
    "nfl_a.reset_index(inplace=True)"
   ]
  },
  {
   "cell_type": "code",
   "execution_count": 31,
   "metadata": {},
   "outputs": [
    {
     "data": {
      "text/html": [
       "<div>\n",
       "<style scoped>\n",
       "    .dataframe tbody tr th:only-of-type {\n",
       "        vertical-align: middle;\n",
       "    }\n",
       "\n",
       "    .dataframe tbody tr th {\n",
       "        vertical-align: top;\n",
       "    }\n",
       "\n",
       "    .dataframe thead th {\n",
       "        text-align: right;\n",
       "    }\n",
       "</style>\n",
       "<table border=\"1\" class=\"dataframe\">\n",
       "  <thead>\n",
       "    <tr style=\"text-align: right;\">\n",
       "      <th></th>\n",
       "      <th>schedule_date</th>\n",
       "      <th>schedule_season</th>\n",
       "      <th>schedule_week</th>\n",
       "      <th>opponent_team</th>\n",
       "      <th>opponent_score</th>\n",
       "      <th>score</th>\n",
       "      <th>team</th>\n",
       "      <th>team_favorite_id</th>\n",
       "      <th>spread_favorite</th>\n",
       "      <th>over_under_line</th>\n",
       "      <th>margin</th>\n",
       "      <th>home_team</th>\n",
       "    </tr>\n",
       "  </thead>\n",
       "  <tbody>\n",
       "    <tr>\n",
       "      <th>0</th>\n",
       "      <td>2010-09-09</td>\n",
       "      <td>2010</td>\n",
       "      <td>1</td>\n",
       "      <td>NO</td>\n",
       "      <td>14.0</td>\n",
       "      <td>9.0</td>\n",
       "      <td>MIN</td>\n",
       "      <td>NO</td>\n",
       "      <td>-5.0</td>\n",
       "      <td>49.5</td>\n",
       "      <td>5.0</td>\n",
       "      <td>NO</td>\n",
       "    </tr>\n",
       "  </tbody>\n",
       "</table>\n",
       "</div>"
      ],
      "text/plain": [
       "  schedule_date  schedule_season schedule_week opponent_team  opponent_score  \\\n",
       "0    2010-09-09             2010             1            NO            14.0   \n",
       "\n",
       "   score team team_favorite_id  spread_favorite  over_under_line  margin  \\\n",
       "0    9.0  MIN               NO             -5.0             49.5     5.0   \n",
       "\n",
       "  home_team  \n",
       "0        NO  "
      ]
     },
     "execution_count": 31,
     "metadata": {},
     "output_type": "execute_result"
    }
   ],
   "source": [
    "nfl_a.head(1)"
   ]
  },
  {
   "cell_type": "code",
   "execution_count": 32,
   "metadata": {},
   "outputs": [],
   "source": [
    "nfl_a['id'] = nfl_a['team'] + nfl_a['schedule_date'].astype(str) #+ nfl_a['team_home']"
   ]
  },
  {
   "cell_type": "code",
   "execution_count": 33,
   "metadata": {},
   "outputs": [
    {
     "data": {
      "text/html": [
       "<div>\n",
       "<style scoped>\n",
       "    .dataframe tbody tr th:only-of-type {\n",
       "        vertical-align: middle;\n",
       "    }\n",
       "\n",
       "    .dataframe tbody tr th {\n",
       "        vertical-align: top;\n",
       "    }\n",
       "\n",
       "    .dataframe thead th {\n",
       "        text-align: right;\n",
       "    }\n",
       "</style>\n",
       "<table border=\"1\" class=\"dataframe\">\n",
       "  <thead>\n",
       "    <tr style=\"text-align: right;\">\n",
       "      <th></th>\n",
       "      <th>schedule_date</th>\n",
       "      <th>schedule_season</th>\n",
       "      <th>schedule_week</th>\n",
       "      <th>opponent_team</th>\n",
       "      <th>opponent_score</th>\n",
       "      <th>score</th>\n",
       "      <th>team</th>\n",
       "      <th>team_favorite_id</th>\n",
       "      <th>spread_favorite</th>\n",
       "      <th>over_under_line</th>\n",
       "      <th>margin</th>\n",
       "      <th>home_team</th>\n",
       "      <th>id</th>\n",
       "    </tr>\n",
       "  </thead>\n",
       "  <tbody>\n",
       "    <tr>\n",
       "      <th>0</th>\n",
       "      <td>2010-09-09</td>\n",
       "      <td>2010</td>\n",
       "      <td>1</td>\n",
       "      <td>NO</td>\n",
       "      <td>14.0</td>\n",
       "      <td>9.0</td>\n",
       "      <td>MIN</td>\n",
       "      <td>NO</td>\n",
       "      <td>-5.0</td>\n",
       "      <td>49.5</td>\n",
       "      <td>5.0</td>\n",
       "      <td>NO</td>\n",
       "      <td>MIN2010-09-09</td>\n",
       "    </tr>\n",
       "  </tbody>\n",
       "</table>\n",
       "</div>"
      ],
      "text/plain": [
       "  schedule_date  schedule_season schedule_week opponent_team  opponent_score  \\\n",
       "0    2010-09-09             2010             1            NO            14.0   \n",
       "\n",
       "   score team team_favorite_id  spread_favorite  over_under_line  margin  \\\n",
       "0    9.0  MIN               NO             -5.0             49.5     5.0   \n",
       "\n",
       "  home_team             id  \n",
       "0        NO  MIN2010-09-09  "
      ]
     },
     "execution_count": 33,
     "metadata": {},
     "output_type": "execute_result"
    }
   ],
   "source": [
    "nfl_a.head(1)"
   ]
  },
  {
   "cell_type": "code",
   "execution_count": 34,
   "metadata": {},
   "outputs": [],
   "source": [
    "#nfl_a.drop(columns='team_home', inplace=True)"
   ]
  },
  {
   "cell_type": "code",
   "execution_count": 35,
   "metadata": {},
   "outputs": [],
   "source": [
    "nfl_a['margin'] = nfl_a['score'] - nfl_a['opponent_score']"
   ]
  },
  {
   "cell_type": "code",
   "execution_count": 36,
   "metadata": {},
   "outputs": [
    {
     "data": {
      "text/plain": [
       "(2560, 13)"
      ]
     },
     "execution_count": 36,
     "metadata": {},
     "output_type": "execute_result"
    }
   ],
   "source": [
    "nfl_a.shape"
   ]
  },
  {
   "cell_type": "markdown",
   "metadata": {},
   "source": [
    "- added margin(how much target team one by) and concatted home and away sets"
   ]
  },
  {
   "cell_type": "code",
   "execution_count": 37,
   "metadata": {},
   "outputs": [],
   "source": [
    "nfl_ha = pd.concat([nfl_h, nfl_a], axis=0, join ='inner')"
   ]
  },
  {
   "cell_type": "code",
   "execution_count": 38,
   "metadata": {},
   "outputs": [
    {
     "data": {
      "text/plain": [
       "(5120, 13)"
      ]
     },
     "execution_count": 38,
     "metadata": {},
     "output_type": "execute_result"
    }
   ],
   "source": [
    "nfl_ha.shape"
   ]
  },
  {
   "cell_type": "code",
   "execution_count": 39,
   "metadata": {},
   "outputs": [],
   "source": [
    "nfl_ha.sort_values(by= ['schedule_date', 'team'], inplace=True)"
   ]
  },
  {
   "cell_type": "markdown",
   "metadata": {},
   "source": [
    "- .head(32) because 32 teams shows me if a week was out of sync"
   ]
  },
  {
   "cell_type": "code",
   "execution_count": 40,
   "metadata": {},
   "outputs": [
    {
     "data": {
      "text/html": [
       "<div>\n",
       "<style scoped>\n",
       "    .dataframe tbody tr th:only-of-type {\n",
       "        vertical-align: middle;\n",
       "    }\n",
       "\n",
       "    .dataframe tbody tr th {\n",
       "        vertical-align: top;\n",
       "    }\n",
       "\n",
       "    .dataframe thead th {\n",
       "        text-align: right;\n",
       "    }\n",
       "</style>\n",
       "<table border=\"1\" class=\"dataframe\">\n",
       "  <thead>\n",
       "    <tr style=\"text-align: right;\">\n",
       "      <th></th>\n",
       "      <th>schedule_date</th>\n",
       "      <th>schedule_season</th>\n",
       "      <th>schedule_week</th>\n",
       "      <th>team</th>\n",
       "      <th>score</th>\n",
       "      <th>opponent_score</th>\n",
       "      <th>opponent_team</th>\n",
       "      <th>team_favorite_id</th>\n",
       "      <th>spread_favorite</th>\n",
       "      <th>over_under_line</th>\n",
       "      <th>margin</th>\n",
       "      <th>home_team</th>\n",
       "      <th>id</th>\n",
       "    </tr>\n",
       "  </thead>\n",
       "  <tbody>\n",
       "    <tr>\n",
       "      <th>0</th>\n",
       "      <td>2010-09-09</td>\n",
       "      <td>2010</td>\n",
       "      <td>1</td>\n",
       "      <td>MIN</td>\n",
       "      <td>9.0</td>\n",
       "      <td>14.0</td>\n",
       "      <td>NO</td>\n",
       "      <td>NO</td>\n",
       "      <td>-5.0</td>\n",
       "      <td>49.5</td>\n",
       "      <td>-5.0</td>\n",
       "      <td>NO</td>\n",
       "      <td>MIN2010-09-09</td>\n",
       "    </tr>\n",
       "    <tr>\n",
       "      <th>0</th>\n",
       "      <td>2010-09-09</td>\n",
       "      <td>2010</td>\n",
       "      <td>1</td>\n",
       "      <td>NO</td>\n",
       "      <td>14.0</td>\n",
       "      <td>9.0</td>\n",
       "      <td>MIN</td>\n",
       "      <td>NO</td>\n",
       "      <td>-5.0</td>\n",
       "      <td>49.5</td>\n",
       "      <td>5.0</td>\n",
       "      <td>NO</td>\n",
       "      <td>NO2010-09-09</td>\n",
       "    </tr>\n",
       "    <tr>\n",
       "      <th>10</th>\n",
       "      <td>2010-09-12</td>\n",
       "      <td>2010</td>\n",
       "      <td>1</td>\n",
       "      <td>ARI</td>\n",
       "      <td>17.0</td>\n",
       "      <td>13.0</td>\n",
       "      <td>LAR</td>\n",
       "      <td>ARI</td>\n",
       "      <td>-3.0</td>\n",
       "      <td>39.5</td>\n",
       "      <td>4.0</td>\n",
       "      <td>LAR</td>\n",
       "      <td>ARI2010-09-12</td>\n",
       "    </tr>\n",
       "    <tr>\n",
       "      <th>8</th>\n",
       "      <td>2010-09-12</td>\n",
       "      <td>2010</td>\n",
       "      <td>1</td>\n",
       "      <td>ATL</td>\n",
       "      <td>9.0</td>\n",
       "      <td>15.0</td>\n",
       "      <td>PIT</td>\n",
       "      <td>ATL</td>\n",
       "      <td>-1.5</td>\n",
       "      <td>39.5</td>\n",
       "      <td>-6.0</td>\n",
       "      <td>PIT</td>\n",
       "      <td>ATL2010-09-12</td>\n",
       "    </tr>\n",
       "    <tr>\n",
       "      <th>1</th>\n",
       "      <td>2010-09-12</td>\n",
       "      <td>2010</td>\n",
       "      <td>1</td>\n",
       "      <td>BUF</td>\n",
       "      <td>10.0</td>\n",
       "      <td>15.0</td>\n",
       "      <td>MIA</td>\n",
       "      <td>MIA</td>\n",
       "      <td>-3.0</td>\n",
       "      <td>39.0</td>\n",
       "      <td>-5.0</td>\n",
       "      <td>BUF</td>\n",
       "      <td>BUF2010-09-12</td>\n",
       "    </tr>\n",
       "    <tr>\n",
       "      <th>6</th>\n",
       "      <td>2010-09-12</td>\n",
       "      <td>2010</td>\n",
       "      <td>1</td>\n",
       "      <td>CAR</td>\n",
       "      <td>18.0</td>\n",
       "      <td>31.0</td>\n",
       "      <td>NYG</td>\n",
       "      <td>NYG</td>\n",
       "      <td>-6.0</td>\n",
       "      <td>41.0</td>\n",
       "      <td>-13.0</td>\n",
       "      <td>NYG</td>\n",
       "      <td>CAR2010-09-12</td>\n",
       "    </tr>\n",
       "    <tr>\n",
       "      <th>2</th>\n",
       "      <td>2010-09-12</td>\n",
       "      <td>2010</td>\n",
       "      <td>1</td>\n",
       "      <td>CHI</td>\n",
       "      <td>19.0</td>\n",
       "      <td>14.0</td>\n",
       "      <td>DET</td>\n",
       "      <td>CHI</td>\n",
       "      <td>-6.5</td>\n",
       "      <td>45.0</td>\n",
       "      <td>5.0</td>\n",
       "      <td>CHI</td>\n",
       "      <td>CHI2010-09-12</td>\n",
       "    </tr>\n",
       "    <tr>\n",
       "      <th>5</th>\n",
       "      <td>2010-09-12</td>\n",
       "      <td>2010</td>\n",
       "      <td>1</td>\n",
       "      <td>CIN</td>\n",
       "      <td>24.0</td>\n",
       "      <td>38.0</td>\n",
       "      <td>NE</td>\n",
       "      <td>NE</td>\n",
       "      <td>-5.5</td>\n",
       "      <td>45.0</td>\n",
       "      <td>-14.0</td>\n",
       "      <td>NE</td>\n",
       "      <td>CIN2010-09-12</td>\n",
       "    </tr>\n",
       "    <tr>\n",
       "      <th>11</th>\n",
       "      <td>2010-09-12</td>\n",
       "      <td>2010</td>\n",
       "      <td>1</td>\n",
       "      <td>CLE</td>\n",
       "      <td>14.0</td>\n",
       "      <td>17.0</td>\n",
       "      <td>TB</td>\n",
       "      <td>TB</td>\n",
       "      <td>-2.5</td>\n",
       "      <td>37.0</td>\n",
       "      <td>-3.0</td>\n",
       "      <td>TB</td>\n",
       "      <td>CLE2010-09-12</td>\n",
       "    </tr>\n",
       "    <tr>\n",
       "      <th>13</th>\n",
       "      <td>2010-09-12</td>\n",
       "      <td>2010</td>\n",
       "      <td>1</td>\n",
       "      <td>DAL</td>\n",
       "      <td>7.0</td>\n",
       "      <td>13.0</td>\n",
       "      <td>WAS</td>\n",
       "      <td>DAL</td>\n",
       "      <td>-3.0</td>\n",
       "      <td>40.0</td>\n",
       "      <td>-6.0</td>\n",
       "      <td>WAS</td>\n",
       "      <td>DAL2010-09-12</td>\n",
       "    </tr>\n",
       "    <tr>\n",
       "      <th>4</th>\n",
       "      <td>2010-09-12</td>\n",
       "      <td>2010</td>\n",
       "      <td>1</td>\n",
       "      <td>DEN</td>\n",
       "      <td>17.0</td>\n",
       "      <td>24.0</td>\n",
       "      <td>JAX</td>\n",
       "      <td>JAX</td>\n",
       "      <td>-3.0</td>\n",
       "      <td>41.5</td>\n",
       "      <td>-7.0</td>\n",
       "      <td>JAX</td>\n",
       "      <td>DEN2010-09-12</td>\n",
       "    </tr>\n",
       "    <tr>\n",
       "      <th>2</th>\n",
       "      <td>2010-09-12</td>\n",
       "      <td>2010</td>\n",
       "      <td>1</td>\n",
       "      <td>DET</td>\n",
       "      <td>14.0</td>\n",
       "      <td>19.0</td>\n",
       "      <td>CHI</td>\n",
       "      <td>CHI</td>\n",
       "      <td>-6.5</td>\n",
       "      <td>45.0</td>\n",
       "      <td>-5.0</td>\n",
       "      <td>CHI</td>\n",
       "      <td>DET2010-09-12</td>\n",
       "    </tr>\n",
       "    <tr>\n",
       "      <th>7</th>\n",
       "      <td>2010-09-12</td>\n",
       "      <td>2010</td>\n",
       "      <td>1</td>\n",
       "      <td>GB</td>\n",
       "      <td>27.0</td>\n",
       "      <td>20.0</td>\n",
       "      <td>PHI</td>\n",
       "      <td>GB</td>\n",
       "      <td>-3.0</td>\n",
       "      <td>48.0</td>\n",
       "      <td>7.0</td>\n",
       "      <td>PHI</td>\n",
       "      <td>GB2010-09-12</td>\n",
       "    </tr>\n",
       "    <tr>\n",
       "      <th>3</th>\n",
       "      <td>2010-09-12</td>\n",
       "      <td>2010</td>\n",
       "      <td>1</td>\n",
       "      <td>HOU</td>\n",
       "      <td>34.0</td>\n",
       "      <td>24.0</td>\n",
       "      <td>IND</td>\n",
       "      <td>IND</td>\n",
       "      <td>-1.0</td>\n",
       "      <td>48.0</td>\n",
       "      <td>10.0</td>\n",
       "      <td>HOU</td>\n",
       "      <td>HOU2010-09-12</td>\n",
       "    </tr>\n",
       "    <tr>\n",
       "      <th>3</th>\n",
       "      <td>2010-09-12</td>\n",
       "      <td>2010</td>\n",
       "      <td>1</td>\n",
       "      <td>IND</td>\n",
       "      <td>24.0</td>\n",
       "      <td>34.0</td>\n",
       "      <td>HOU</td>\n",
       "      <td>IND</td>\n",
       "      <td>-1.0</td>\n",
       "      <td>48.0</td>\n",
       "      <td>-10.0</td>\n",
       "      <td>HOU</td>\n",
       "      <td>IND2010-09-12</td>\n",
       "    </tr>\n",
       "    <tr>\n",
       "      <th>4</th>\n",
       "      <td>2010-09-12</td>\n",
       "      <td>2010</td>\n",
       "      <td>1</td>\n",
       "      <td>JAX</td>\n",
       "      <td>24.0</td>\n",
       "      <td>17.0</td>\n",
       "      <td>DEN</td>\n",
       "      <td>JAX</td>\n",
       "      <td>-3.0</td>\n",
       "      <td>41.5</td>\n",
       "      <td>7.0</td>\n",
       "      <td>JAX</td>\n",
       "      <td>JAX2010-09-12</td>\n",
       "    </tr>\n",
       "    <tr>\n",
       "      <th>10</th>\n",
       "      <td>2010-09-12</td>\n",
       "      <td>2010</td>\n",
       "      <td>1</td>\n",
       "      <td>LAR</td>\n",
       "      <td>13.0</td>\n",
       "      <td>17.0</td>\n",
       "      <td>ARI</td>\n",
       "      <td>ARI</td>\n",
       "      <td>-3.0</td>\n",
       "      <td>39.5</td>\n",
       "      <td>-4.0</td>\n",
       "      <td>LAR</td>\n",
       "      <td>LAR2010-09-12</td>\n",
       "    </tr>\n",
       "    <tr>\n",
       "      <th>1</th>\n",
       "      <td>2010-09-12</td>\n",
       "      <td>2010</td>\n",
       "      <td>1</td>\n",
       "      <td>MIA</td>\n",
       "      <td>15.0</td>\n",
       "      <td>10.0</td>\n",
       "      <td>BUF</td>\n",
       "      <td>MIA</td>\n",
       "      <td>-3.0</td>\n",
       "      <td>39.0</td>\n",
       "      <td>5.0</td>\n",
       "      <td>BUF</td>\n",
       "      <td>MIA2010-09-12</td>\n",
       "    </tr>\n",
       "    <tr>\n",
       "      <th>5</th>\n",
       "      <td>2010-09-12</td>\n",
       "      <td>2010</td>\n",
       "      <td>1</td>\n",
       "      <td>NE</td>\n",
       "      <td>38.0</td>\n",
       "      <td>24.0</td>\n",
       "      <td>CIN</td>\n",
       "      <td>NE</td>\n",
       "      <td>-5.5</td>\n",
       "      <td>45.0</td>\n",
       "      <td>14.0</td>\n",
       "      <td>NE</td>\n",
       "      <td>NE2010-09-12</td>\n",
       "    </tr>\n",
       "    <tr>\n",
       "      <th>6</th>\n",
       "      <td>2010-09-12</td>\n",
       "      <td>2010</td>\n",
       "      <td>1</td>\n",
       "      <td>NYG</td>\n",
       "      <td>31.0</td>\n",
       "      <td>18.0</td>\n",
       "      <td>CAR</td>\n",
       "      <td>NYG</td>\n",
       "      <td>-6.0</td>\n",
       "      <td>41.0</td>\n",
       "      <td>13.0</td>\n",
       "      <td>NYG</td>\n",
       "      <td>NYG2010-09-12</td>\n",
       "    </tr>\n",
       "    <tr>\n",
       "      <th>12</th>\n",
       "      <td>2010-09-12</td>\n",
       "      <td>2010</td>\n",
       "      <td>1</td>\n",
       "      <td>OAK</td>\n",
       "      <td>13.0</td>\n",
       "      <td>38.0</td>\n",
       "      <td>TEN</td>\n",
       "      <td>TEN</td>\n",
       "      <td>-6.5</td>\n",
       "      <td>40.0</td>\n",
       "      <td>-25.0</td>\n",
       "      <td>TEN</td>\n",
       "      <td>OAK2010-09-12</td>\n",
       "    </tr>\n",
       "    <tr>\n",
       "      <th>7</th>\n",
       "      <td>2010-09-12</td>\n",
       "      <td>2010</td>\n",
       "      <td>1</td>\n",
       "      <td>PHI</td>\n",
       "      <td>20.0</td>\n",
       "      <td>27.0</td>\n",
       "      <td>GB</td>\n",
       "      <td>GB</td>\n",
       "      <td>-3.0</td>\n",
       "      <td>48.0</td>\n",
       "      <td>-7.0</td>\n",
       "      <td>PHI</td>\n",
       "      <td>PHI2010-09-12</td>\n",
       "    </tr>\n",
       "    <tr>\n",
       "      <th>8</th>\n",
       "      <td>2010-09-12</td>\n",
       "      <td>2010</td>\n",
       "      <td>1</td>\n",
       "      <td>PIT</td>\n",
       "      <td>15.0</td>\n",
       "      <td>9.0</td>\n",
       "      <td>ATL</td>\n",
       "      <td>ATL</td>\n",
       "      <td>-1.5</td>\n",
       "      <td>39.5</td>\n",
       "      <td>6.0</td>\n",
       "      <td>PIT</td>\n",
       "      <td>PIT2010-09-12</td>\n",
       "    </tr>\n",
       "    <tr>\n",
       "      <th>9</th>\n",
       "      <td>2010-09-12</td>\n",
       "      <td>2010</td>\n",
       "      <td>1</td>\n",
       "      <td>SEA</td>\n",
       "      <td>31.0</td>\n",
       "      <td>6.0</td>\n",
       "      <td>SF</td>\n",
       "      <td>SF</td>\n",
       "      <td>-3.0</td>\n",
       "      <td>37.0</td>\n",
       "      <td>25.0</td>\n",
       "      <td>SEA</td>\n",
       "      <td>SEA2010-09-12</td>\n",
       "    </tr>\n",
       "    <tr>\n",
       "      <th>9</th>\n",
       "      <td>2010-09-12</td>\n",
       "      <td>2010</td>\n",
       "      <td>1</td>\n",
       "      <td>SF</td>\n",
       "      <td>6.0</td>\n",
       "      <td>31.0</td>\n",
       "      <td>SEA</td>\n",
       "      <td>SF</td>\n",
       "      <td>-3.0</td>\n",
       "      <td>37.0</td>\n",
       "      <td>-25.0</td>\n",
       "      <td>SEA</td>\n",
       "      <td>SF2010-09-12</td>\n",
       "    </tr>\n",
       "    <tr>\n",
       "      <th>11</th>\n",
       "      <td>2010-09-12</td>\n",
       "      <td>2010</td>\n",
       "      <td>1</td>\n",
       "      <td>TB</td>\n",
       "      <td>17.0</td>\n",
       "      <td>14.0</td>\n",
       "      <td>CLE</td>\n",
       "      <td>TB</td>\n",
       "      <td>-2.5</td>\n",
       "      <td>37.0</td>\n",
       "      <td>3.0</td>\n",
       "      <td>TB</td>\n",
       "      <td>TB2010-09-12</td>\n",
       "    </tr>\n",
       "    <tr>\n",
       "      <th>12</th>\n",
       "      <td>2010-09-12</td>\n",
       "      <td>2010</td>\n",
       "      <td>1</td>\n",
       "      <td>TEN</td>\n",
       "      <td>38.0</td>\n",
       "      <td>13.0</td>\n",
       "      <td>OAK</td>\n",
       "      <td>TEN</td>\n",
       "      <td>-6.5</td>\n",
       "      <td>40.0</td>\n",
       "      <td>25.0</td>\n",
       "      <td>TEN</td>\n",
       "      <td>TEN2010-09-12</td>\n",
       "    </tr>\n",
       "    <tr>\n",
       "      <th>13</th>\n",
       "      <td>2010-09-12</td>\n",
       "      <td>2010</td>\n",
       "      <td>1</td>\n",
       "      <td>WAS</td>\n",
       "      <td>13.0</td>\n",
       "      <td>7.0</td>\n",
       "      <td>DAL</td>\n",
       "      <td>DAL</td>\n",
       "      <td>-3.0</td>\n",
       "      <td>40.0</td>\n",
       "      <td>6.0</td>\n",
       "      <td>WAS</td>\n",
       "      <td>WAS2010-09-12</td>\n",
       "    </tr>\n",
       "    <tr>\n",
       "      <th>15</th>\n",
       "      <td>2010-09-13</td>\n",
       "      <td>2010</td>\n",
       "      <td>1</td>\n",
       "      <td>BAL</td>\n",
       "      <td>10.0</td>\n",
       "      <td>9.0</td>\n",
       "      <td>NYJ</td>\n",
       "      <td>NYJ</td>\n",
       "      <td>-1.0</td>\n",
       "      <td>36.5</td>\n",
       "      <td>1.0</td>\n",
       "      <td>NYJ</td>\n",
       "      <td>BAL2010-09-13</td>\n",
       "    </tr>\n",
       "    <tr>\n",
       "      <th>14</th>\n",
       "      <td>2010-09-13</td>\n",
       "      <td>2010</td>\n",
       "      <td>1</td>\n",
       "      <td>KC</td>\n",
       "      <td>21.0</td>\n",
       "      <td>14.0</td>\n",
       "      <td>LAC</td>\n",
       "      <td>LAC</td>\n",
       "      <td>-4.0</td>\n",
       "      <td>45.5</td>\n",
       "      <td>7.0</td>\n",
       "      <td>KC</td>\n",
       "      <td>KC2010-09-13</td>\n",
       "    </tr>\n",
       "    <tr>\n",
       "      <th>14</th>\n",
       "      <td>2010-09-13</td>\n",
       "      <td>2010</td>\n",
       "      <td>1</td>\n",
       "      <td>LAC</td>\n",
       "      <td>14.0</td>\n",
       "      <td>21.0</td>\n",
       "      <td>KC</td>\n",
       "      <td>LAC</td>\n",
       "      <td>-4.0</td>\n",
       "      <td>45.5</td>\n",
       "      <td>-7.0</td>\n",
       "      <td>KC</td>\n",
       "      <td>LAC2010-09-13</td>\n",
       "    </tr>\n",
       "    <tr>\n",
       "      <th>15</th>\n",
       "      <td>2010-09-13</td>\n",
       "      <td>2010</td>\n",
       "      <td>1</td>\n",
       "      <td>NYJ</td>\n",
       "      <td>9.0</td>\n",
       "      <td>10.0</td>\n",
       "      <td>BAL</td>\n",
       "      <td>NYJ</td>\n",
       "      <td>-1.0</td>\n",
       "      <td>36.5</td>\n",
       "      <td>-1.0</td>\n",
       "      <td>NYJ</td>\n",
       "      <td>NYJ2010-09-13</td>\n",
       "    </tr>\n",
       "  </tbody>\n",
       "</table>\n",
       "</div>"
      ],
      "text/plain": [
       "   schedule_date  schedule_season schedule_week team  score  opponent_score  \\\n",
       "0     2010-09-09             2010             1  MIN    9.0            14.0   \n",
       "0     2010-09-09             2010             1   NO   14.0             9.0   \n",
       "10    2010-09-12             2010             1  ARI   17.0            13.0   \n",
       "8     2010-09-12             2010             1  ATL    9.0            15.0   \n",
       "1     2010-09-12             2010             1  BUF   10.0            15.0   \n",
       "6     2010-09-12             2010             1  CAR   18.0            31.0   \n",
       "2     2010-09-12             2010             1  CHI   19.0            14.0   \n",
       "5     2010-09-12             2010             1  CIN   24.0            38.0   \n",
       "11    2010-09-12             2010             1  CLE   14.0            17.0   \n",
       "13    2010-09-12             2010             1  DAL    7.0            13.0   \n",
       "4     2010-09-12             2010             1  DEN   17.0            24.0   \n",
       "2     2010-09-12             2010             1  DET   14.0            19.0   \n",
       "7     2010-09-12             2010             1   GB   27.0            20.0   \n",
       "3     2010-09-12             2010             1  HOU   34.0            24.0   \n",
       "3     2010-09-12             2010             1  IND   24.0            34.0   \n",
       "4     2010-09-12             2010             1  JAX   24.0            17.0   \n",
       "10    2010-09-12             2010             1  LAR   13.0            17.0   \n",
       "1     2010-09-12             2010             1  MIA   15.0            10.0   \n",
       "5     2010-09-12             2010             1   NE   38.0            24.0   \n",
       "6     2010-09-12             2010             1  NYG   31.0            18.0   \n",
       "12    2010-09-12             2010             1  OAK   13.0            38.0   \n",
       "7     2010-09-12             2010             1  PHI   20.0            27.0   \n",
       "8     2010-09-12             2010             1  PIT   15.0             9.0   \n",
       "9     2010-09-12             2010             1  SEA   31.0             6.0   \n",
       "9     2010-09-12             2010             1   SF    6.0            31.0   \n",
       "11    2010-09-12             2010             1   TB   17.0            14.0   \n",
       "12    2010-09-12             2010             1  TEN   38.0            13.0   \n",
       "13    2010-09-12             2010             1  WAS   13.0             7.0   \n",
       "15    2010-09-13             2010             1  BAL   10.0             9.0   \n",
       "14    2010-09-13             2010             1   KC   21.0            14.0   \n",
       "14    2010-09-13             2010             1  LAC   14.0            21.0   \n",
       "15    2010-09-13             2010             1  NYJ    9.0            10.0   \n",
       "\n",
       "   opponent_team team_favorite_id  spread_favorite  over_under_line  margin  \\\n",
       "0             NO               NO             -5.0             49.5    -5.0   \n",
       "0            MIN               NO             -5.0             49.5     5.0   \n",
       "10           LAR              ARI             -3.0             39.5     4.0   \n",
       "8            PIT              ATL             -1.5             39.5    -6.0   \n",
       "1            MIA              MIA             -3.0             39.0    -5.0   \n",
       "6            NYG              NYG             -6.0             41.0   -13.0   \n",
       "2            DET              CHI             -6.5             45.0     5.0   \n",
       "5             NE               NE             -5.5             45.0   -14.0   \n",
       "11            TB               TB             -2.5             37.0    -3.0   \n",
       "13           WAS              DAL             -3.0             40.0    -6.0   \n",
       "4            JAX              JAX             -3.0             41.5    -7.0   \n",
       "2            CHI              CHI             -6.5             45.0    -5.0   \n",
       "7            PHI               GB             -3.0             48.0     7.0   \n",
       "3            IND              IND             -1.0             48.0    10.0   \n",
       "3            HOU              IND             -1.0             48.0   -10.0   \n",
       "4            DEN              JAX             -3.0             41.5     7.0   \n",
       "10           ARI              ARI             -3.0             39.5    -4.0   \n",
       "1            BUF              MIA             -3.0             39.0     5.0   \n",
       "5            CIN               NE             -5.5             45.0    14.0   \n",
       "6            CAR              NYG             -6.0             41.0    13.0   \n",
       "12           TEN              TEN             -6.5             40.0   -25.0   \n",
       "7             GB               GB             -3.0             48.0    -7.0   \n",
       "8            ATL              ATL             -1.5             39.5     6.0   \n",
       "9             SF               SF             -3.0             37.0    25.0   \n",
       "9            SEA               SF             -3.0             37.0   -25.0   \n",
       "11           CLE               TB             -2.5             37.0     3.0   \n",
       "12           OAK              TEN             -6.5             40.0    25.0   \n",
       "13           DAL              DAL             -3.0             40.0     6.0   \n",
       "15           NYJ              NYJ             -1.0             36.5     1.0   \n",
       "14           LAC              LAC             -4.0             45.5     7.0   \n",
       "14            KC              LAC             -4.0             45.5    -7.0   \n",
       "15           BAL              NYJ             -1.0             36.5    -1.0   \n",
       "\n",
       "   home_team             id  \n",
       "0         NO  MIN2010-09-09  \n",
       "0         NO   NO2010-09-09  \n",
       "10       LAR  ARI2010-09-12  \n",
       "8        PIT  ATL2010-09-12  \n",
       "1        BUF  BUF2010-09-12  \n",
       "6        NYG  CAR2010-09-12  \n",
       "2        CHI  CHI2010-09-12  \n",
       "5         NE  CIN2010-09-12  \n",
       "11        TB  CLE2010-09-12  \n",
       "13       WAS  DAL2010-09-12  \n",
       "4        JAX  DEN2010-09-12  \n",
       "2        CHI  DET2010-09-12  \n",
       "7        PHI   GB2010-09-12  \n",
       "3        HOU  HOU2010-09-12  \n",
       "3        HOU  IND2010-09-12  \n",
       "4        JAX  JAX2010-09-12  \n",
       "10       LAR  LAR2010-09-12  \n",
       "1        BUF  MIA2010-09-12  \n",
       "5         NE   NE2010-09-12  \n",
       "6        NYG  NYG2010-09-12  \n",
       "12       TEN  OAK2010-09-12  \n",
       "7        PHI  PHI2010-09-12  \n",
       "8        PIT  PIT2010-09-12  \n",
       "9        SEA  SEA2010-09-12  \n",
       "9        SEA   SF2010-09-12  \n",
       "11        TB   TB2010-09-12  \n",
       "12       TEN  TEN2010-09-12  \n",
       "13       WAS  WAS2010-09-12  \n",
       "15       NYJ  BAL2010-09-13  \n",
       "14        KC   KC2010-09-13  \n",
       "14        KC  LAC2010-09-13  \n",
       "15       NYJ  NYJ2010-09-13  "
      ]
     },
     "execution_count": 40,
     "metadata": {},
     "output_type": "execute_result"
    }
   ],
   "source": [
    "nfl_ha.head(32)"
   ]
  },
  {
   "cell_type": "code",
   "execution_count": 41,
   "metadata": {},
   "outputs": [],
   "source": [
    "nfl_ha.to_csv('./data/nfl_scores_agg.csv')"
   ]
  },
  {
   "cell_type": "code",
   "execution_count": 42,
   "metadata": {},
   "outputs": [
    {
     "data": {
      "text/plain": [
       "(5120, 13)"
      ]
     },
     "execution_count": 42,
     "metadata": {},
     "output_type": "execute_result"
    }
   ],
   "source": [
    "nfl_ha.shape"
   ]
  },
  {
   "cell_type": "code",
   "execution_count": 43,
   "metadata": {},
   "outputs": [],
   "source": [
    "nfl_ha['score'] = nfl_ha['score'].astype(float)"
   ]
  },
  {
   "cell_type": "code",
   "execution_count": 57,
   "metadata": {},
   "outputs": [
    {
     "data": {
      "text/plain": [
       "0    20.0\n",
       "dtype: float64"
      ]
     },
     "execution_count": 57,
     "metadata": {},
     "output_type": "execute_result"
    }
   ],
   "source": [
    "nfl_score = nfl_ha['score']\n",
    "nfl_margin = nfl_ha['margin']\n",
    "nfl_score.mode()"
   ]
  },
  {
   "cell_type": "markdown",
   "metadata": {},
   "source": [
    "#### EDA: Distributions with average around 21. 20 Appears most. "
   ]
  },
  {
   "cell_type": "code",
   "execution_count": 46,
   "metadata": {},
   "outputs": [
    {
     "data": {
      "image/png": "[encoded data removed]",
      "text/plain": [
       "<Figure size 720x576 with 1 Axes>"
      ]
     },
     "metadata": {
      "needs_background": "light"
     },
     "output_type": "display_data"
    }
   ],
   "source": [
    "plt.figure(figsize= (10,8))\n",
    "plt.hist(nfl_score, bins = 50, color ='navy');\n",
    "plt.title('NFL Scores Distribution from 2010 - 2016', fontsize = 22)\n",
    "plt.xlabel('Scores', fontsize=15)\n",
    "plt.xticks(fontsize = 18)\n",
    "plt.yticks(fontsize = 18);\n"
   ]
  },
  {
   "cell_type": "markdown",
   "metadata": {},
   "source": [
    "#### EDA: Scoring margins make sense. 3, 7, 10 account for 15% of scoring margins in the NFL"
   ]
  },
  {
   "cell_type": "code",
   "execution_count": 47,
   "metadata": {
    "jupyter": {
     "source_hidden": true
    }
   },
   "outputs": [
    {
     "data": {
      "image/png": "[encoded data removed]",
      "text/plain": [
       "<Figure size 720x576 with 1 Axes>"
      ]
     },
     "metadata": {
      "needs_background": "light"
     },
     "output_type": "display_data"
    }
   ],
   "source": [
    "plt.figure(figsize= (10,8))\n",
    "plt.hist(nfl_margin, bins = 50, color ='navy');\n",
    "plt.title('NFL Scores Win Margin from 2010 - 2016', fontsize = 22)\n",
    "plt.xlabel('Scores', fontsize=15)\n",
    "plt.xticks(fontsize = 18)\n",
    "plt.yticks(fontsize = 18);"
   ]
  },
  {
   "cell_type": "code",
   "execution_count": null,
   "metadata": {},
   "outputs": [],
   "source": []
  }
 ],
 "metadata": {
  "kernelspec": {
   "display_name": "Python 3",
   "language": "python",
   "name": "python3"
  },
  "language_info": {
   "codemirror_mode": {
    "name": "ipython",
    "version": 3
   },
   "file_extension": ".py",
   "mimetype": "text/x-python",
   "name": "python",
   "nbconvert_exporter": "python",
   "pygments_lexer": "ipython3",
   "version": "3.7.7"
  }
 },
 "nbformat": 4,
 "nbformat_minor": 4
}
